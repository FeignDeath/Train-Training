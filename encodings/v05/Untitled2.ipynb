{
 "cells": [
  {
   "cell_type": "code",
   "execution_count": 2,
   "id": "60f24886",
   "metadata": {
    "scrolled": true
   },
   "outputs": [
    {
     "name": "stdout",
     "output_type": "stream",
     "text": [
      "clingo version 5.6.2\n",
      "Reading from stdin\n",
      "Solving...\n",
      "Answer: 1\n",
      "team(osu) team(mich) team(iowa) team(bama) team(auburn) team(uga) team(gtech) team(texas) team(okla) team(okst) team(ksu) team(ttu) team(tcu) team(byu) team(iowast) team(oregon) team(orst) team(wash) team(wast)\n",
      "SATISFIABLE\n",
      "\n",
      "Models       : 1\n",
      "Calls        : 1\n",
      "Time         : 0.000s (Solving: 0.00s 1st Model: 0.00s Unsat: 0.00s)\n",
      "CPU Time     : 0.000s\n"
     ]
    }
   ],
   "source": [
    "%%clingo 0\n",
    "\n",
    "team(osu;mich;iowa;bama;auburn;uga;gtech;texas;okla;okst;ksu;ttu;tcu;byu;iowast;oregon;orst;wash;wast)."
   ]
  },
  {
   "cell_type": "markdown",
   "id": "e4f27380",
   "metadata": {},
   "source": [
    "scenarios\n",
    "* if Texas wins, then it clinches a berth\n",
    "    * if Oklahoma State wins, then it clinches a berth (4 scenarios)\n",
    "    * if Oklahoma State loses and Oklahoma wins, then Oklahoma clinches a berth (2 scenarios)\n",
    "    * if Oklahoma State and Oklahoma lose and Kansas State wins, then Kansas State clinches a berth (1 scenario)\n",
    "    * if the remaining three lose\n",
    "* if Texas loses, then…\n",
    "    * if Oklahoma and Oklahoma State lose, then Texas and Kansas State clinch berths\n",
    "    * if Oklahoma State and Kansas State lose, then Texas and Oklahoma clinch berths\n",
    "    * if Kansas State and Oklahoma lose, then Texas and Oklahoma State clinch berths\n",
    "    * (?) if they all win…\n",
    "    * (?) if Oklahoma and Oklahoma State win…\n",
    "    * (?) if Oklahoma State and Kansas State win…\n",
    "    * (?) if Kansas State and Oklahoma win…\n",
    "    * if they all lose, then Texas and Oklahoma State clinch berths"
   ]
  },
  {
   "cell_type": "code",
   "execution_count": 85,
   "id": "93378d0d",
   "metadata": {},
   "outputs": [
    {
     "name": "stdout",
     "output_type": "stream",
     "text": [
      "clingo version 5.6.2\n",
      "Reading from stdin\n",
      "Solving...\n",
      "Answer: 1\n",
      "total(0) outcome(oklahoma,0) outcome(kansas_state,0) outcome(oklahoma_state,0)\n",
      "Answer: 2\n",
      "outcome(oklahoma_state,1) total(1) outcome(oklahoma,0) outcome(kansas_state,0)\n",
      "Answer: 3\n",
      "outcome(kansas_state,1) total(1) outcome(oklahoma,0) outcome(oklahoma_state,0)\n",
      "Answer: 4\n",
      "outcome(kansas_state,1) outcome(oklahoma_state,1) total(1) outcome(oklahoma,0)\n",
      "Answer: 5\n",
      "outcome(oklahoma,1) total(1) outcome(kansas_state,0) outcome(oklahoma_state,0)\n",
      "Answer: 6\n",
      "outcome(oklahoma,1) outcome(kansas_state,1) total(1) outcome(oklahoma_state,0)\n",
      "Answer: 7\n",
      "outcome(oklahoma,1) outcome(oklahoma_state,1) total(1) outcome(kansas_state,0)\n",
      "Answer: 8\n",
      "outcome(oklahoma,1) outcome(kansas_state,1) outcome(oklahoma_state,1) total(1)\n",
      "SATISFIABLE\n",
      "\n",
      "Models       : 8\n",
      "Calls        : 1\n",
      "Time         : 0.001s (Solving: 0.00s 1st Model: 0.00s Unsat: 0.00s)\n",
      "CPU Time     : 0.001s\n"
     ]
    }
   ],
   "source": [
    "%%clingo 0\n",
    "\n",
    "team(texas;oklahoma;kansas_state;oklahoma_state).\n",
    "result(1;0).\n",
    "\n",
    "{ outcome(T, R) : result(R) } = 1 :- team(T), T!=texas.\n",
    "    \n",
    "%total(X) :- X = #min{ R : outcome(T,R) }.\n",
    "total(X) :- X = #sum{ R : outcome(T,R), team(T) }.\n",
    "\n",
    "#show total/1.\n",
    "#show outcome/2."
   ]
  },
  {
   "cell_type": "code",
   "execution_count": null,
   "id": "f871f626",
   "metadata": {},
   "outputs": [],
   "source": []
  },
  {
   "cell_type": "code",
   "execution_count": 32,
   "id": "3b66d2a2",
   "metadata": {},
   "outputs": [
    {
     "name": "stdout",
     "output_type": "stream",
     "text": [
      "clingo version 5.6.2\n",
      "Reading from stdin\n",
      "Solving...\n",
      "Answer: 1\n",
      "\n",
      "Answer: 2\n",
      "\n",
      "Answer: 3\n",
      "\n",
      "Answer: 4\n",
      "\n",
      "Answer: 5\n",
      "\n",
      "Answer: 6\n",
      "\n",
      "Answer: 7\n",
      "\n",
      "Answer: 8\n",
      "\n",
      "Answer: 9\n",
      "champion(oklahoma_state) champion(texas)\n",
      "Answer: 10\n",
      "champion(oklahoma_state) champion(texas)\n",
      "Answer: 11\n",
      "champion(oklahoma) champion(texas)\n",
      "Answer: 12\n",
      "champion(oklahoma) champion(texas)\n",
      "Answer: 13\n",
      "champion(oklahoma_state) champion(texas)\n",
      "Answer: 14\n",
      "champion(oklahoma_state) champion(texas)\n",
      "Answer: 15\n",
      "champion(oklahoma_state) champion(texas)\n",
      "Answer: 16\n",
      "champion(kansas_state) champion(texas)\n",
      "SATISFIABLE\n",
      "\n",
      "Models       : 16\n",
      "Calls        : 1\n",
      "Time         : 0.001s (Solving: 0.00s 1st Model: 0.00s Unsat: 0.00s)\n",
      "CPU Time     : 0.001s\n"
     ]
    }
   ],
   "source": [
    "%%clingo 0\n",
    "\n",
    "team(texas;oklahoma;kansas_state;oklahoma_state).\n",
    "result(1;0).\n",
    "\n",
    "% Week 13 games\n",
    "{ outcome(T, R) : result(R) } = 1 :- team(T).\n",
    "\n",
    "% champion scenarios\n",
    "%champion(texas) :- outcome(texas,1).\n",
    "%champion(oklahoma_state) :- outcome(texas,1), outcome(oklahoma_state,1).\n",
    "%champion(oklahoma_state) :- outcome(texas,1), outcome(oklahoma,0), outcome(kansas_state,0).\n",
    "%champion(oklahoma) :- outcome(texas,1), outcome(oklahoma_state,0), outcome(oklahoma,1).\n",
    "%champion(kansas_state) :- outcome(texas,1), outcome(oklahoma_state,0), outcome(oklahoma,0), outcome(kansas_state,1).\n",
    " \n",
    "\n",
    "\n",
    "%#show outcome/2.\n",
    "#show champion/1."
   ]
  },
  {
   "cell_type": "code",
   "execution_count": 21,
   "id": "30bd5742",
   "metadata": {},
   "outputs": [
    {
     "name": "stdout",
     "output_type": "stream",
     "text": [
      "clingo version 5.6.2\n",
      "Reading from stdin\n",
      "Solving...\n",
      "Answer: 1\n",
      "standings(texas,7) standings(oklahoma,7) standings(kansas_state,7) standings(oklahoma_state,7)\n",
      "Answer: 2\n",
      "standings(texas,7) standings(oklahoma,6) standings(kansas_state,7) standings(oklahoma_state,7)\n",
      "Answer: 3\n",
      "standings(texas,7) standings(oklahoma,7) standings(kansas_state,6) standings(oklahoma_state,7)\n",
      "Answer: 4\n",
      "standings(texas,7) standings(oklahoma,6) standings(kansas_state,6) standings(oklahoma_state,7)\n",
      "Answer: 5\n",
      "standings(texas,7) standings(oklahoma,7) standings(kansas_state,6) standings(oklahoma_state,6)\n",
      "Answer: 6\n",
      "standings(texas,7) standings(oklahoma,7) standings(kansas_state,7) standings(oklahoma_state,6)\n",
      "Answer: 7\n",
      "standings(texas,7) standings(oklahoma,6) standings(kansas_state,6) standings(oklahoma_state,6)\n",
      "Answer: 8\n",
      "standings(texas,7) standings(oklahoma,6) standings(kansas_state,7) standings(oklahoma_state,6)\n",
      "Answer: 9\n",
      "standings(texas,8) standings(oklahoma,7) standings(kansas_state,6) standings(oklahoma_state,6)\n",
      "Answer: 10\n",
      "standings(texas,8) standings(oklahoma,6) standings(kansas_state,6) standings(oklahoma_state,6)\n",
      "Answer: 11\n",
      "standings(texas,8) standings(oklahoma,7) standings(kansas_state,6) standings(oklahoma_state,7)\n",
      "Answer: 12\n",
      "standings(texas,8) standings(oklahoma,6) standings(kansas_state,6) standings(oklahoma_state,7)\n",
      "Answer: 13\n",
      "standings(texas,8) standings(oklahoma,7) standings(kansas_state,7) standings(oklahoma_state,6)\n",
      "Answer: 14\n",
      "standings(texas,8) standings(oklahoma,7) standings(kansas_state,7) standings(oklahoma_state,7)\n",
      "Answer: 15\n",
      "standings(texas,8) standings(oklahoma,6) standings(kansas_state,7) standings(oklahoma_state,6)\n",
      "Answer: 16\n",
      "standings(texas,8) standings(oklahoma,6) standings(kansas_state,7) standings(oklahoma_state,7)\n",
      "SATISFIABLE\n",
      "\n",
      "Models       : 16\n",
      "Calls        : 1\n",
      "Time         : 0.001s (Solving: 0.00s 1st Model: 0.00s Unsat: 0.00s)\n",
      "CPU Time     : 0.001s\n"
     ]
    }
   ],
   "source": [
    "%%clingo 0\n",
    "\n",
    "% Big12 scenarios\n",
    "\n",
    "team(texas,7).\n",
    "team(oklahoma,6).\n",
    "team(kansas_state,6).\n",
    "team(oklahoma_state,6).\n",
    "result(1;0).\n",
    "\n",
    "% Week 13 games\n",
    "{ outcome(T, R) : result(R) } = 1 :- team(T,_).\n",
    "\n",
    "#show.\n",
    "#show standings(T, Wins) : team(T,W), outcome(T,R), Wins=W+R.\n",
    "%#show outcome/2."
   ]
  },
  {
   "cell_type": "code",
   "execution_count": 3,
   "id": "353193ea",
   "metadata": {},
   "outputs": [
    {
     "name": "stdout",
     "output_type": "stream",
     "text": [
      "clingo version 5.6.2\n",
      "Reading from stdin\n",
      "Solving...\n",
      "Answer: 1\n",
      "championship_game(alabama,clemson) championship_game(ohio_state,another_team) outcome(alabama,clemson) outcome(ohio_state,another_team)\n",
      "SATISFIABLE\n",
      "\n",
      "Models       : 1\n",
      "Calls        : 1\n",
      "Time         : 0.001s (Solving: 0.00s 1st Model: 0.00s Unsat: 0.00s)\n",
      "CPU Time     : 0.001s\n"
     ]
    }
   ],
   "source": [
    "%%clingo 0\n",
    "\n",
    "% Define teams\n",
    "team(alabama).\n",
    "team(clemson).\n",
    "team(ohio_state).\n",
    "% Add other teams as needed\n",
    "\n",
    "% Define remaining regular season games\n",
    "game(week_14, alabama, clemson).\n",
    "game(week_14, ohio_state, another_team).\n",
    "% Add other games as needed\n",
    "\n",
    "% Define conference championship games\n",
    "championship_game(alabama, clemson).\n",
    "championship_game(ohio_state, another_team).\n",
    "% Add other championship games as needed\n",
    "\n",
    "% Define possible outcomes\n",
    "outcome(Winner, Loser) :- game(_, Winner, Loser).\n",
    "\n",
    "% Define constraints (for example, teams cannot play against themselves)\n",
    ":- game(_, Team, Team).\n",
    "\n",
    "% Solve the program\n",
    "#show outcome/2.\n",
    "#show championship_game/2.\n"
   ]
  }
 ],
 "metadata": {
  "kernelspec": {
   "display_name": "Python 3",
   "language": "python",
   "name": "python3"
  },
  "language_info": {
   "codemirror_mode": {
    "name": "ipython",
    "version": 3
   },
   "file_extension": ".py",
   "mimetype": "text/x-python",
   "name": "python",
   "nbconvert_exporter": "python",
   "pygments_lexer": "ipython3",
   "version": "3.8.8"
  }
 },
 "nbformat": 4,
 "nbformat_minor": 5
}
