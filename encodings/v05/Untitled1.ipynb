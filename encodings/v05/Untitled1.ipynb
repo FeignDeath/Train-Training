{
 "cells": [
  {
   "cell_type": "markdown",
   "id": "baebae2e",
   "metadata": {},
   "source": [
    "## Basic atoms\n",
    "\n",
    "These are written with lowercase letters."
   ]
  },
  {
   "cell_type": "code",
   "execution_count": 76,
   "id": "1ef0f771",
   "metadata": {},
   "outputs": [
    {
     "name": "stdout",
     "output_type": "stream",
     "text": [
      "clingo version 5.6.2\n",
      "Reading from stdin\n",
      "Solving...\n",
      "Answer: 1\n",
      "train track\n",
      "SATISFIABLE\n",
      "\n",
      "Models       : 1\n",
      "Calls        : 1\n",
      "Time         : 0.000s (Solving: 0.00s 1st Model: 0.00s Unsat: 0.00s)\n",
      "CPU Time     : 0.000s\n"
     ]
    }
   ],
   "source": [
    "%%clingo 0\n",
    "\n",
    "train. track."
   ]
  },
  {
   "cell_type": "code",
   "execution_count": 16,
   "id": "c9df4365",
   "metadata": {
    "scrolled": false
   },
   "outputs": [
    {
     "name": "stdout",
     "output_type": "stream",
     "text": [
      "clingo version 5.6.2\n",
      "Reading from stdin\n",
      "Solving...\n",
      "Answer: 1\n",
      "b c f a\n",
      "SATISFIABLE\n",
      "\n",
      "Models       : 1\n",
      "Calls        : 1\n",
      "Time         : 0.008s (Solving: 0.00s 1st Model: 0.00s Unsat: 0.00s)\n",
      "CPU Time     : 0.002s\n"
     ]
    },
    {
     "name": "stderr",
     "output_type": "stream",
     "text": [
      "-:7:6-7: info: atom does not occur in any rule head:\n",
      "  e\n",
      "\n",
      "-:8:10-11: info: atom does not occur in any rule head:\n",
      "  g\n",
      "\n"
     ]
    }
   ],
   "source": [
    "%%clingo 0\n",
    "\n",
    "% facts\n",
    "a. b.\n",
    "\n",
    "% rules\n",
    "c :- b.     % c if b\n",
    "d :- e.     % d if e\n",
    "f :- not g. % f if not g"
   ]
  },
  {
   "cell_type": "markdown",
   "id": "eb8b8d54",
   "metadata": {},
   "source": [
    "## Atoms with variables\n",
    "\n",
    "These are written with capital letters. If you have a variable in the head, you must have a reference in the body."
   ]
  },
  {
   "cell_type": "code",
   "execution_count": 79,
   "id": "98476d01",
   "metadata": {
    "scrolled": true
   },
   "outputs": [
    {
     "name": "stdout",
     "output_type": "stream",
     "text": [
      "clingo version 5.6.2\n",
      "Reading from stdin\n",
      "Solving...\n",
      "Answer: 1\n",
      "a(1) a(2) a(3) a(4) even(2) even(4)\n",
      "SATISFIABLE\n",
      "\n",
      "Models       : 1\n",
      "Calls        : 1\n",
      "Time         : 0.009s (Solving: 0.00s 1st Model: 0.00s Unsat: 0.00s)\n",
      "CPU Time     : 0.002s\n"
     ]
    }
   ],
   "source": [
    "%%clingo 0\n",
    "\n",
    "a(1). a(2). a(3). a(4).\n",
    "\n",
    "even(X) :- a(X), X\\2=0.\n",
    "    \n",
    "%#show even/1."
   ]
  },
  {
   "cell_type": "code",
   "execution_count": 21,
   "id": "a41f8f14",
   "metadata": {},
   "outputs": [
    {
     "name": "stdout",
     "output_type": "stream",
     "text": [
      "clingo version 5.6.2\n",
      "Reading from stdin\n",
      "Solving...\n",
      "Answer: 1\n",
      "stop(golm,train(20)) stop(golm,train(21)) stop(golm,train(22)) stop(golm,train(23))\n",
      "SATISFIABLE\n",
      "\n",
      "Models       : 1\n",
      "Calls        : 1\n",
      "Time         : 0.005s (Solving: 0.00s 1st Model: 0.00s Unsat: 0.00s)\n",
      "CPU Time     : 0.002s\n"
     ]
    }
   ],
   "source": [
    "%%clingo 0\n",
    "\n",
    "train(1;20..24).\n",
    "\n",
    "stop(golm,train(X)) :- train(X), X>1, X<24.\n",
    "    \n",
    "#show stop/2."
   ]
  },
  {
   "cell_type": "markdown",
   "id": "2d648383",
   "metadata": {},
   "source": [
    "## Choice rules"
   ]
  },
  {
   "cell_type": "code",
   "execution_count": 81,
   "id": "45f393bd",
   "metadata": {
    "scrolled": true
   },
   "outputs": [
    {
     "name": "stdout",
     "output_type": "stream",
     "text": [
      "clingo version 5.6.2\n",
      "Reading from stdin\n",
      "Solving...\n",
      "Answer: 1\n",
      "a(1) b(2)\n",
      "Answer: 2\n",
      "a(1) a(2)\n",
      "Answer: 3\n",
      "a(1) b(1)\n",
      "SATISFIABLE\n",
      "\n",
      "Models       : 3\n",
      "Calls        : 1\n",
      "Time         : 0.001s (Solving: 0.00s 1st Model: 0.00s Unsat: 0.00s)\n",
      "CPU Time     : 0.001s\n"
     ]
    }
   ],
   "source": [
    "%%clingo 0\n",
    "a(1).\n",
    "{ a(1..2); b(1..2) } = 2.\n",
    "\n",
    "#show a/1.\n",
    "#show b/1."
   ]
  },
  {
   "cell_type": "markdown",
   "id": "d435486e",
   "metadata": {},
   "source": [
    "## Lexicographic ordering\n",
    "Non-numeric comparisons are based solely on the underlying symbols."
   ]
  },
  {
   "cell_type": "code",
   "execution_count": 74,
   "id": "b142ef6f",
   "metadata": {
    "scrolled": true
   },
   "outputs": [
    {
     "name": "stdout",
     "output_type": "stream",
     "text": [
      "clingo version 5.6.2\n",
      "Reading from stdin\n",
      "Solving...\n",
      "Answer: 1\n",
      "true(1)\n",
      "SATISFIABLE\n",
      "\n",
      "Models       : 1\n",
      "Calls        : 1\n",
      "Time         : 0.001s (Solving: 0.00s 1st Model: 0.00s Unsat: 0.00s)\n",
      "CPU Time     : 0.001s\n"
     ]
    },
    {
     "name": "stderr",
     "output_type": "stream",
     "text": [
      "-:2:16-17: info: atom does not occur in any rule head:\n",
      "  a\n",
      "\n"
     ]
    }
   ],
   "source": [
    "%%clingo 0\n",
    "\n",
    "true(1) :- not a.\n",
    "\n",
    "#show true/1."
   ]
  },
  {
   "cell_type": "code",
   "execution_count": null,
   "id": "9d28d8ca",
   "metadata": {},
   "outputs": [],
   "source": [
    "%%clingo 0\n",
    "\n",
    "size(2).\n",
    "\n",
    "cell(X,Y) :- X = 1..S*S, Y = 1..S*S, size(S).\n",
    "\n",
    "{ sudoku(X,Y,N) : N=1..S*S } = 1 :- size(S), cell(X,Y)."
   ]
  }
 ],
 "metadata": {
  "kernelspec": {
   "display_name": "Python 3",
   "language": "python",
   "name": "python3"
  },
  "language_info": {
   "codemirror_mode": {
    "name": "ipython",
    "version": 3
   },
   "file_extension": ".py",
   "mimetype": "text/x-python",
   "name": "python",
   "nbconvert_exporter": "python",
   "pygments_lexer": "ipython3",
   "version": "3.8.8"
  }
 },
 "nbformat": 4,
 "nbformat_minor": 5
}
