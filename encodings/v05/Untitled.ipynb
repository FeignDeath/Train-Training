{
 "cells": [
  {
   "cell_type": "markdown",
   "id": "560ef5c3",
   "metadata": {},
   "source": [
    "topics:\n",
    "* if/else conditions\n",
    "* elif conditions\n",
    "\n",
    ".\n",
    "* for loops\n",
    "* while loops\n",
    "\n",
    "additionally:\n",
    "* global scope and functional scope in functions"
   ]
  },
  {
   "cell_type": "code",
   "execution_count": 1,
   "id": "8d4cb8ad",
   "metadata": {
    "scrolled": true
   },
   "outputs": [
    {
     "name": "stdout",
     "output_type": "stream",
     "text": [
      "hello world\n"
     ]
    }
   ],
   "source": [
    "print('hello world')"
   ]
  },
  {
   "cell_type": "code",
   "execution_count": 6,
   "id": "7b9a6f56",
   "metadata": {},
   "outputs": [
    {
     "name": "stdout",
     "output_type": "stream",
     "text": [
      "1\n"
     ]
    }
   ],
   "source": [
    "numbers = [1,2,3,4,5,6]\n",
    "\n",
    "choice = numbers[0]\n",
    "print(choice)\n"
   ]
  },
  {
   "cell_type": "code",
   "execution_count": 26,
   "id": "1706e046",
   "metadata": {},
   "outputs": [
    {
     "name": "stdout",
     "output_type": "stream",
     "text": [
      "False\n"
     ]
    }
   ],
   "source": [
    "buses = ['BUS616', 'BUS694', 'EVU6']\n",
    "print('BUS615' in buses)"
   ]
  },
  {
   "cell_type": "code",
   "execution_count": 34,
   "id": "dc32bed3",
   "metadata": {
    "scrolled": false
   },
   "outputs": [
    {
     "name": "stdout",
     "output_type": "stream",
     "text": [
      "Bus\n",
      "Bus\n",
      "Train\n",
      "S-Bahn\n",
      "Bus\n",
      "S-Bahn\n",
      "['BUS616', 'BUS694', 'RB23', 'S7', 'BUS694', 'EVU6', 'S5']\n"
     ]
    }
   ],
   "source": [
    "rides = ['BUS616', 'BUS694', 'RB23', 'S7', 'BUS694', 'EVU6']\n",
    "buses = ['BUS616', 'BUS694', 'EVU6']\n",
    "\n",
    "# logic - what type of transit am I taking: a bus, a train, or an s-bahn?\n",
    "\n",
    "for ride in rides: #iterating: looking for elements in a list\n",
    "    \n",
    "    if ride[:3]=='BUS': #evaluating a condition: looking for true/false\n",
    "        print('Bus')\n",
    "        \n",
    "    elif ride[:2]=='RB':\n",
    "        print('Train')\n",
    "        \n",
    "    elif ride[:1]=='S':\n",
    "        print('S-Bahn')\n",
    "        \n",
    "    else:\n",
    "        print('Other')\n"
   ]
  },
  {
   "cell_type": "code",
   "execution_count": 36,
   "id": "ae4b3773",
   "metadata": {},
   "outputs": [
    {
     "name": "stdout",
     "output_type": "stream",
     "text": [
      "1\n",
      "2\n",
      "3\n",
      "4\n",
      "5\n"
     ]
    }
   ],
   "source": [
    "i = 1\n",
    "while i < 6:\n",
    "    print(i)\n",
    "    i += 1"
   ]
  },
  {
   "cell_type": "code",
   "execution_count": null,
   "id": "82c14357",
   "metadata": {},
   "outputs": [],
   "source": [
    "# train door\n",
    "\n",
    "button = False\n",
    "\n",
    "# conditions\n",
    "not_moving = True #code\n",
    "at_station = True #code\n",
    "\n",
    "# when the button should be activated\n",
    "while(not_moving and at_station):\n",
    "    button = True\n",
    "    \n",
    "    \n",
    "#rest of the code\n"
   ]
  },
  {
   "cell_type": "code",
   "execution_count": 63,
   "id": "e9d10d0a",
   "metadata": {},
   "outputs": [
    {
     "name": "stdout",
     "output_type": "stream",
     "text": [
      "BUS616 :  Bus\n",
      "BUS694 :  Bus\n",
      "RB23 :  Train\n",
      "S7 :  S-Bahn\n",
      "BUS694 :  Bus\n",
      "EVU6 :  Bus\n",
      "RB22 :  Train\n",
      "S5 :  S-Bahn\n",
      "F1 :  Ferry\n",
      "F10 :  Ferry\n"
     ]
    }
   ],
   "source": [
    "def add(x,y):\n",
    "    return x+y\n",
    "\n",
    "#global: a variable (information) is accessible anywhere in the program\n",
    "#functional: a variable (information) is only accessible within the function\n",
    "buses = ['BUS616', 'BUS694', 'EVU6']\n",
    "\n",
    "def transit_type(example):\n",
    "    \"\"\"given an example, return the type of transit it is\"\"\"\n",
    "    if example in buses: #evaluating a condition: looking for true/false\n",
    "        return 'Bus'\n",
    "        \n",
    "    elif example[:2]=='RB':\n",
    "        return 'Train'\n",
    "        \n",
    "    elif example[:1]=='S':\n",
    "        return 'S-Bahn'\n",
    "\n",
    "    elif example[:1]=='F':\n",
    "        return 'Ferry'\n",
    "        \n",
    "    else:\n",
    "        return 'Other'\n",
    "        \n",
    "        \n",
    "# call function once\n",
    "#transit_type(\"Weird\")\n",
    "#print(example) # error\n",
    "\n",
    "rides = ['BUS616', 'BUS694', 'RB23', 'S7', 'BUS694', 'EVU6', 'RB22', 'S5', 'F1', 'F10']\n",
    "\n",
    "for ride in rides: #iterating: looking for elements in a list\n",
    "    print(ride, \": \", transit_type(ride))\n"
   ]
  },
  {
   "cell_type": "code",
   "execution_count": 86,
   "id": "ff6e804d",
   "metadata": {},
   "outputs": [
    {
     "name": "stdout",
     "output_type": "stream",
     "text": [
      "clingo version 5.6.2\n",
      "Reading from stdin\n",
      "Solving...\n",
      "Answer: 1\n",
      "x\n",
      "SATISFIABLE\n",
      "\n",
      "Models       : 1\n",
      "Calls        : 1\n",
      "Time         : 0.000s (Solving: 0.00s 1st Model: 0.00s Unsat: 0.00s)\n",
      "CPU Time     : 0.000s\n"
     ]
    }
   ],
   "source": [
    "%%clingo\n",
    "\n",
    "\n",
    "x :- t(aaaaaa) < t(b)."
   ]
  },
  {
   "cell_type": "code",
   "execution_count": 97,
   "id": "8e4f6259",
   "metadata": {},
   "outputs": [
    {
     "name": "stdout",
     "output_type": "stream",
     "text": [
      "clingo version 5.6.2\n",
      "Reading from stdin\n",
      "Solving...\n",
      "Answer: 1\n",
      "pair(red,10) pair(green,10) pair(red,20) pair(green,20)\n",
      "SATISFIABLE\n",
      "\n",
      "Models       : 1\n",
      "Calls        : 1\n",
      "Time         : 0.000s (Solving: 0.00s 1st Model: 0.00s Unsat: 0.00s)\n",
      "CPU Time     : 0.000s\n"
     ]
    }
   ],
   "source": [
    "%%clingo 0\n",
    "\n",
    "\n",
    "color(red;green).\n",
    "number(10;20).\n",
    "\n",
    "pair(C,N) :- color(C), number(N).\n",
    "    \n",
    "#show pair/2."
   ]
  },
  {
   "cell_type": "code",
   "execution_count": 108,
   "id": "2df74785",
   "metadata": {},
   "outputs": [
    {
     "name": "stdout",
     "output_type": "stream",
     "text": [
      "clingo version 5.6.2\n",
      "Reading from stdin\n",
      "Solving...\n",
      "Answer: 1\n",
      "sudoku(1,1,1) sudoku(2,1,1) sudoku(3,1,1) sudoku(4,1,1) sudoku(5,1,1) sudoku(6,1,1) sudoku(7,1,1) sudoku(8,1,1) sudoku(9,1,1) sudoku(1,2,1) sudoku(2,2,1) sudoku(3,2,1) sudoku(4,2,1) sudoku(5,2,1) sudoku(6,2,1) sudoku(7,2,1) sudoku(8,2,1) sudoku(9,2,1) sudoku(1,3,1) sudoku(2,3,1) sudoku(3,3,1) sudoku(4,3,1) sudoku(5,3,1) sudoku(6,3,1) sudoku(7,3,1) sudoku(8,3,1) sudoku(9,3,1) sudoku(1,4,1) sudoku(2,4,1) sudoku(3,4,1) sudoku(4,4,1) sudoku(5,4,1) sudoku(6,4,1) sudoku(7,4,1) sudoku(8,4,1) sudoku(9,4,1) sudoku(1,5,1) sudoku(2,5,1) sudoku(3,5,1) sudoku(4,5,1) sudoku(5,5,1) sudoku(6,5,1) sudoku(7,5,1) sudoku(8,5,1) sudoku(9,5,1) sudoku(1,6,1) sudoku(2,6,1) sudoku(3,6,1) sudoku(4,6,1) sudoku(5,6,1) sudoku(6,6,1) sudoku(7,6,1) sudoku(8,6,1) sudoku(9,6,1) sudoku(1,7,1) sudoku(2,7,1) sudoku(3,7,1) sudoku(4,7,1) sudoku(5,7,1) sudoku(6,7,1) sudoku(7,7,1) sudoku(8,7,1) sudoku(9,7,1) sudoku(1,8,1) sudoku(2,8,1) sudoku(3,8,1) sudoku(4,8,1) sudoku(5,8,1) sudoku(6,8,1) sudoku(7,8,1) sudoku(8,8,1) sudoku(9,8,1) sudoku(1,9,1) sudoku(2,9,1) sudoku(3,9,1) sudoku(4,9,1) sudoku(5,9,1) sudoku(6,9,1) sudoku(7,9,1) sudoku(8,9,1) sudoku(9,9,1) sudoku(1,1,2) sudoku(2,1,2) sudoku(3,1,2) sudoku(4,1,2) sudoku(5,1,2) sudoku(6,1,2) sudoku(7,1,2) sudoku(8,1,2) sudoku(9,1,2) sudoku(1,2,2) sudoku(2,2,2) sudoku(3,2,2) sudoku(4,2,2) sudoku(5,2,2) sudoku(6,2,2) sudoku(7,2,2) sudoku(8,2,2) sudoku(9,2,2) sudoku(1,3,2) sudoku(2,3,2) sudoku(3,3,2) sudoku(4,3,2) sudoku(5,3,2) sudoku(6,3,2) sudoku(7,3,2) sudoku(8,3,2) sudoku(9,3,2) sudoku(1,4,2) sudoku(2,4,2) sudoku(3,4,2) sudoku(4,4,2) sudoku(5,4,2) sudoku(6,4,2) sudoku(7,4,2) sudoku(8,4,2) sudoku(9,4,2) sudoku(1,5,2) sudoku(2,5,2) sudoku(3,5,2) sudoku(4,5,2) sudoku(5,5,2) sudoku(6,5,2) sudoku(7,5,2) sudoku(8,5,2) sudoku(9,5,2) sudoku(1,6,2) sudoku(2,6,2) sudoku(3,6,2) sudoku(4,6,2) sudoku(5,6,2) sudoku(6,6,2) sudoku(7,6,2) sudoku(8,6,2) sudoku(9,6,2) sudoku(1,7,2) sudoku(2,7,2) sudoku(3,7,2) sudoku(4,7,2) sudoku(5,7,2) sudoku(6,7,2) sudoku(7,7,2) sudoku(8,7,2) sudoku(9,7,2) sudoku(1,8,2) sudoku(2,8,2) sudoku(3,8,2) sudoku(4,8,2) sudoku(5,8,2) sudoku(6,8,2) sudoku(7,8,2) sudoku(8,8,2) sudoku(9,8,2) sudoku(1,9,2) sudoku(2,9,2) sudoku(3,9,2) sudoku(4,9,2) sudoku(5,9,2) sudoku(6,9,2) sudoku(7,9,2) sudoku(8,9,2) sudoku(9,9,2) sudoku(1,1,3) sudoku(2,1,3) sudoku(3,1,3) sudoku(4,1,3) sudoku(5,1,3) sudoku(6,1,3) sudoku(7,1,3) sudoku(8,1,3) sudoku(9,1,3) sudoku(1,2,3) sudoku(2,2,3) sudoku(3,2,3) sudoku(4,2,3) sudoku(5,2,3) sudoku(6,2,3) sudoku(7,2,3) sudoku(8,2,3) sudoku(9,2,3) sudoku(1,3,3) sudoku(2,3,3) sudoku(3,3,3) sudoku(4,3,3) sudoku(5,3,3) sudoku(6,3,3) sudoku(7,3,3) sudoku(8,3,3) sudoku(9,3,3) sudoku(1,4,3) sudoku(2,4,3) sudoku(3,4,3) sudoku(4,4,3) sudoku(5,4,3) sudoku(6,4,3) sudoku(7,4,3) sudoku(8,4,3) sudoku(9,4,3) sudoku(1,5,3) sudoku(2,5,3) sudoku(3,5,3) sudoku(4,5,3) sudoku(5,5,3) sudoku(6,5,3) sudoku(7,5,3) sudoku(8,5,3) sudoku(9,5,3) sudoku(1,6,3) sudoku(2,6,3) sudoku(3,6,3) sudoku(4,6,3) sudoku(5,6,3) sudoku(6,6,3) sudoku(7,6,3) sudoku(8,6,3) sudoku(9,6,3) sudoku(1,7,3) sudoku(2,7,3) sudoku(3,7,3) sudoku(4,7,3) sudoku(5,7,3) sudoku(6,7,3) sudoku(7,7,3) sudoku(8,7,3) sudoku(9,7,3) sudoku(1,8,3) sudoku(2,8,3) sudoku(3,8,3) sudoku(4,8,3) sudoku(5,8,3) sudoku(6,8,3) sudoku(7,8,3) sudoku(8,8,3) sudoku(9,8,3) sudoku(1,9,3) sudoku(2,9,3) sudoku(3,9,3) sudoku(4,9,3) sudoku(5,9,3) sudoku(6,9,3) sudoku(7,9,3) sudoku(8,9,3) sudoku(9,9,3) sudoku(1,1,4) sudoku(2,1,4) sudoku(3,1,4) sudoku(4,1,4) sudoku(5,1,4) sudoku(6,1,4) sudoku(7,1,4) sudoku(8,1,4) sudoku(9,1,4) sudoku(1,2,4) sudoku(2,2,4) sudoku(3,2,4) sudoku(4,2,4) sudoku(5,2,4) sudoku(6,2,4) sudoku(7,2,4) sudoku(8,2,4) sudoku(9,2,4) sudoku(1,3,4) sudoku(2,3,4) sudoku(3,3,4) sudoku(4,3,4) sudoku(5,3,4) sudoku(6,3,4) sudoku(7,3,4) sudoku(8,3,4) sudoku(9,3,4) sudoku(1,4,4) sudoku(2,4,4) sudoku(3,4,4) sudoku(4,4,4) sudoku(5,4,4) sudoku(6,4,4) sudoku(7,4,4) sudoku(8,4,4) sudoku(9,4,4) sudoku(1,5,4) sudoku(2,5,4) sudoku(3,5,4) sudoku(4,5,4) sudoku(5,5,4) sudoku(6,5,4) sudoku(7,5,4) sudoku(8,5,4) sudoku(9,5,4) sudoku(1,6,4) sudoku(2,6,4) sudoku(3,6,4) sudoku(4,6,4) sudoku(5,6,4) sudoku(6,6,4) sudoku(7,6,4) sudoku(8,6,4) sudoku(9,6,4) sudoku(1,7,4) sudoku(2,7,4) sudoku(3,7,4) sudoku(4,7,4) sudoku(5,7,4) sudoku(6,7,4) sudoku(7,7,4) sudoku(8,7,4) sudoku(9,7,4) sudoku(1,8,4) sudoku(2,8,4) sudoku(3,8,4) sudoku(4,8,4) sudoku(5,8,4) sudoku(6,8,4) sudoku(7,8,4) sudoku(8,8,4) sudoku(9,8,4) sudoku(1,9,4) sudoku(2,9,4) sudoku(3,9,4) sudoku(4,9,4) sudoku(5,9,4) sudoku(6,9,4) sudoku(7,9,4) sudoku(8,9,4) sudoku(9,9,4) sudoku(1,1,5) sudoku(2,1,5) sudoku(3,1,5) sudoku(4,1,5) sudoku(5,1,5) sudoku(6,1,5) sudoku(7,1,5) sudoku(8,1,5) sudoku(9,1,5) sudoku(1,2,5) sudoku(2,2,5) sudoku(3,2,5) sudoku(4,2,5) sudoku(5,2,5) sudoku(6,2,5) sudoku(7,2,5) sudoku(8,2,5) sudoku(9,2,5) sudoku(1,3,5) sudoku(2,3,5) sudoku(3,3,5) sudoku(4,3,5) sudoku(5,3,5) sudoku(6,3,5) sudoku(7,3,5) sudoku(8,3,5) sudoku(9,3,5) sudoku(1,4,5) sudoku(2,4,5) sudoku(3,4,5) sudoku(4,4,5) sudoku(5,4,5) sudoku(6,4,5) sudoku(7,4,5) sudoku(8,4,5) sudoku(9,4,5) sudoku(1,5,5) sudoku(2,5,5) sudoku(3,5,5) sudoku(4,5,5) sudoku(5,5,5) sudoku(6,5,5) sudoku(7,5,5) sudoku(8,5,5) sudoku(9,5,5) sudoku(1,6,5) sudoku(2,6,5) sudoku(3,6,5) sudoku(4,6,5) sudoku(5,6,5) sudoku(6,6,5) sudoku(7,6,5) sudoku(8,6,5) sudoku(9,6,5) sudoku(1,7,5) sudoku(2,7,5) sudoku(3,7,5) sudoku(4,7,5) sudoku(5,7,5) sudoku(6,7,5) sudoku(7,7,5) sudoku(8,7,5) sudoku(9,7,5) sudoku(1,8,5) sudoku(2,8,5) sudoku(3,8,5) sudoku(4,8,5) sudoku(5,8,5) sudoku(6,8,5) sudoku(7,8,5) sudoku(8,8,5) sudoku(9,8,5) sudoku(1,9,5) sudoku(2,9,5) sudoku(3,9,5) sudoku(4,9,5) sudoku(5,9,5) sudoku(6,9,5) sudoku(7,9,5) sudoku(8,9,5) sudoku(9,9,5) sudoku(1,1,6) sudoku(2,1,6) sudoku(3,1,6) sudoku(4,1,6) sudoku(5,1,6) sudoku(6,1,6) sudoku(7,1,6) sudoku(8,1,6) sudoku(9,1,6) sudoku(1,2,6) sudoku(2,2,6) sudoku(3,2,6) sudoku(4,2,6) sudoku(5,2,6) sudoku(6,2,6) sudoku(7,2,6) sudoku(8,2,6) sudoku(9,2,6) sudoku(1,3,6) sudoku(2,3,6) sudoku(3,3,6) sudoku(4,3,6) sudoku(5,3,6) sudoku(6,3,6) sudoku(7,3,6) sudoku(8,3,6) sudoku(9,3,6) sudoku(1,4,6) sudoku(2,4,6) sudoku(3,4,6) sudoku(4,4,6) sudoku(5,4,6) sudoku(6,4,6) sudoku(7,4,6) sudoku(8,4,6) sudoku(9,4,6) sudoku(1,5,6) sudoku(2,5,6) sudoku(3,5,6) sudoku(4,5,6) sudoku(5,5,6) sudoku(6,5,6) sudoku(7,5,6) sudoku(8,5,6) sudoku(9,5,6) sudoku(1,6,6) sudoku(2,6,6) sudoku(3,6,6) sudoku(4,6,6) sudoku(5,6,6) sudoku(6,6,6) sudoku(7,6,6) sudoku(8,6,6) sudoku(9,6,6) sudoku(1,7,6) sudoku(2,7,6) sudoku(3,7,6) sudoku(4,7,6) sudoku(5,7,6) sudoku(6,7,6) sudoku(7,7,6) sudoku(8,7,6) sudoku(9,7,6) sudoku(1,8,6) sudoku(2,8,6) sudoku(3,8,6) sudoku(4,8,6) sudoku(5,8,6) sudoku(6,8,6) sudoku(7,8,6) sudoku(8,8,6) sudoku(9,8,6) sudoku(1,9,6) sudoku(2,9,6) sudoku(3,9,6) sudoku(4,9,6) sudoku(5,9,6) sudoku(6,9,6) sudoku(7,9,6) sudoku(8,9,6) sudoku(9,9,6) sudoku(1,1,7) sudoku(2,1,7) sudoku(3,1,7) sudoku(4,1,7) sudoku(5,1,7) sudoku(6,1,7) sudoku(7,1,7) sudoku(8,1,7) sudoku(9,1,7) sudoku(1,2,7) sudoku(2,2,7) sudoku(3,2,7) sudoku(4,2,7) sudoku(5,2,7) sudoku(6,2,7) sudoku(7,2,7) sudoku(8,2,7) sudoku(9,2,7) sudoku(1,3,7) sudoku(2,3,7) sudoku(3,3,7) sudoku(4,3,7) sudoku(5,3,7) sudoku(6,3,7) sudoku(7,3,7) sudoku(8,3,7) sudoku(9,3,7) sudoku(1,4,7) sudoku(2,4,7) sudoku(3,4,7) sudoku(4,4,7) sudoku(5,4,7) sudoku(6,4,7) sudoku(7,4,7) sudoku(8,4,7) sudoku(9,4,7) sudoku(1,5,7) sudoku(2,5,7) sudoku(3,5,7) sudoku(4,5,7) sudoku(5,5,7) sudoku(6,5,7) sudoku(7,5,7) sudoku(8,5,7) sudoku(9,5,7) sudoku(1,6,7) sudoku(2,6,7) sudoku(3,6,7) sudoku(4,6,7) sudoku(5,6,7) sudoku(6,6,7) sudoku(7,6,7) sudoku(8,6,7) sudoku(9,6,7) sudoku(1,7,7) sudoku(2,7,7) sudoku(3,7,7) sudoku(4,7,7) sudoku(5,7,7) sudoku(6,7,7) sudoku(7,7,7) sudoku(8,7,7) sudoku(9,7,7) sudoku(1,8,7) sudoku(2,8,7) sudoku(3,8,7) sudoku(4,8,7) sudoku(5,8,7) sudoku(6,8,7) sudoku(7,8,7) sudoku(8,8,7) sudoku(9,8,7) sudoku(1,9,7) sudoku(2,9,7) sudoku(3,9,7) sudoku(4,9,7) sudoku(5,9,7) sudoku(6,9,7) sudoku(7,9,7) sudoku(8,9,7) sudoku(9,9,7) sudoku(1,1,8) sudoku(2,1,8) sudoku(3,1,8) sudoku(4,1,8) sudoku(5,1,8) sudoku(6,1,8) sudoku(7,1,8) sudoku(8,1,8) sudoku(9,1,8) sudoku(1,2,8) sudoku(2,2,8) sudoku(3,2,8) sudoku(4,2,8) sudoku(5,2,8) sudoku(6,2,8) sudoku(7,2,8) sudoku(8,2,8) sudoku(9,2,8) sudoku(1,3,8) sudoku(2,3,8) sudoku(3,3,8) sudoku(4,3,8) sudoku(5,3,8) sudoku(6,3,8) sudoku(7,3,8) sudoku(8,3,8) sudoku(9,3,8) sudoku(1,4,8) sudoku(2,4,8) sudoku(3,4,8) sudoku(4,4,8) sudoku(5,4,8) sudoku(6,4,8) sudoku(7,4,8) sudoku(8,4,8) sudoku(9,4,8) sudoku(1,5,8) sudoku(2,5,8) sudoku(3,5,8) sudoku(4,5,8) sudoku(5,5,8) sudoku(6,5,8) sudoku(7,5,8) sudoku(8,5,8) sudoku(9,5,8) sudoku(1,6,8) sudoku(2,6,8) sudoku(3,6,8) sudoku(4,6,8) sudoku(5,6,8) sudoku(6,6,8) sudoku(7,6,8) sudoku(8,6,8) sudoku(9,6,8) sudoku(1,7,8) sudoku(2,7,8) sudoku(3,7,8) sudoku(4,7,8) sudoku(5,7,8) sudoku(6,7,8) sudoku(7,7,8) sudoku(8,7,8) sudoku(9,7,8) sudoku(1,8,8) sudoku(2,8,8) sudoku(3,8,8) sudoku(4,8,8) sudoku(5,8,8) sudoku(6,8,8) sudoku(7,8,8) sudoku(8,8,8) sudoku(9,8,8) sudoku(1,9,8) sudoku(2,9,8) sudoku(3,9,8) sudoku(4,9,8) sudoku(5,9,8) sudoku(6,9,8) sudoku(7,9,8) sudoku(8,9,8) sudoku(9,9,8) sudoku(1,1,9) sudoku(2,1,9) sudoku(3,1,9) sudoku(4,1,9) sudoku(5,1,9) sudoku(6,1,9) sudoku(7,1,9) sudoku(8,1,9) sudoku(9,1,9) sudoku(1,2,9) sudoku(2,2,9) sudoku(3,2,9) sudoku(4,2,9) sudoku(5,2,9) sudoku(6,2,9) sudoku(7,2,9) sudoku(8,2,9) sudoku(9,2,9) sudoku(1,3,9) sudoku(2,3,9) sudoku(3,3,9) sudoku(4,3,9) sudoku(5,3,9) sudoku(6,3,9) sudoku(7,3,9) sudoku(8,3,9) sudoku(9,3,9) sudoku(1,4,9) sudoku(2,4,9) sudoku(3,4,9) sudoku(4,4,9) sudoku(5,4,9) sudoku(6,4,9) sudoku(7,4,9) sudoku(8,4,9) sudoku(9,4,9) sudoku(1,5,9) sudoku(2,5,9) sudoku(3,5,9) sudoku(4,5,9) sudoku(5,5,9) sudoku(6,5,9) sudoku(7,5,9) sudoku(8,5,9) sudoku(9,5,9) sudoku(1,6,9) sudoku(2,6,9) sudoku(3,6,9) sudoku(4,6,9) sudoku(5,6,9) sudoku(6,6,9) sudoku(7,6,9) sudoku(8,6,9) sudoku(9,6,9) sudoku(1,7,9) sudoku(2,7,9) sudoku(3,7,9) sudoku(4,7,9) sudoku(5,7,9) sudoku(6,7,9) sudoku(7,7,9) sudoku(8,7,9) sudoku(9,7,9) sudoku(1,8,9) sudoku(2,8,9) sudoku(3,8,9) sudoku(4,8,9) sudoku(5,8,9) sudoku(6,8,9) sudoku(7,8,9) sudoku(8,8,9) sudoku(9,8,9) sudoku(1,9,9) sudoku(2,9,9) sudoku(3,9,9) sudoku(4,9,9) sudoku(5,9,9) sudoku(6,9,9) sudoku(7,9,9) sudoku(8,9,9) sudoku(9,9,9)\n",
      "SATISFIABLE\n",
      "\n",
      "Models       : 1\n",
      "Calls        : 1\n",
      "Time         : 0.013s (Solving: 0.00s 1st Model: 0.00s Unsat: 0.00s)\n",
      "CPU Time     : 0.006s\n"
     ]
    }
   ],
   "source": [
    "%%clingo 0\n",
    "\n",
    "initial(1,1,5). initial(1,2,3). initial(1,5,7).\n",
    "initial(2,1,6). initial(2,4,1). initial(2,5,9). initial(2,6,5).\n",
    "initial(3,2,9). initial(3,3,8). initial(3,8,6).\n",
    "initial(4,1,8). initial(4,5,6). initial(4,9,3).\n",
    "initial(5,1,4). initial(5,4,8). initial(5,6,3). initial(5,9,1).\n",
    "initial(6,1,7). initial(6,5,2). initial(6,9,6).\n",
    "initial(7,2,6). initial(7,7,2). initial(7,8,8).\n",
    "initial(8,4,4). initial(8,5,1). initial(8,6,9). initial(8,9,5).\n",
    "initial(9,5,8). initial(9,8,7). initial(9,9,9).\n",
    "\n",
    "\n",
    "subgrid_size(3).\n",
    "\n",
    "% Hints:\n",
    "% - For subgrid_size(s), subgrids can be identified by labels 0..s*s-1\n",
    "% - A cell (x,y) can be mapped to the subgrid labeled (((x-1)/s)*s + (y-1)/s)\n",
    "\n",
    "cell(X,Y) :- subgrid_size(S), X=1..(S*3), Y=1..(S*3).\n",
    "{ sudoku(X,Y,N) : cell(X,Y) } = 1 :- cell(X,Y), subgrid_size(S), N=1..(S*3).\n",
    "    \n",
    "%:- sudoku(X,Y,N), not initial(X,Y,N).\n",
    "\n",
    "#show sudoku/3."
   ]
  },
  {
   "cell_type": "code",
   "execution_count": 115,
   "id": "f524a4ae",
   "metadata": {},
   "outputs": [
    {
     "name": "stdout",
     "output_type": "stream",
     "text": [
      "Process is interrupted.\n"
     ]
    }
   ],
   "source": [
    "%%clingo 0\n",
    "\n",
    "% choose the size\n",
    "sub(2).\n",
    "\n",
    "% build the board\n",
    "cell(X,Y) :- sub(S), X=1..(S*S), Y=1..(S*S).\n",
    "    \n",
    "% assign values\n",
    "{ sudoku(X,Y,N) } 1 :- cell(X,Y), sub(S), N=1..(S*S).\n",
    "    \n",
    "#show sudoku/3."
   ]
  },
  {
   "cell_type": "code",
   "execution_count": 126,
   "id": "314e6952",
   "metadata": {},
   "outputs": [
    {
     "name": "stdout",
     "output_type": "stream",
     "text": [
      "clingo version 5.6.2\n",
      "Reading from stdin\n",
      "Solving...\n",
      "Answer: 1\n",
      "pair(1,1) pair(2,1) pair(3,1) pair(1,2) pair(2,2) pair(3,2) pair(1,3) pair(2,3) pair(3,3)\n",
      "SATISFIABLE\n",
      "\n",
      "Models       : 1\n",
      "Calls        : 1\n",
      "Time         : 0.001s (Solving: 0.00s 1st Model: 0.00s Unsat: 0.00s)\n",
      "CPU Time     : 0.001s\n"
     ]
    }
   ],
   "source": [
    "%%clingo 0\n",
    "\n",
    "cell(1..3).\n",
    "value(1..3).\n",
    "\n",
    "1 { pair(C,V) : value(V) } :- cell(C), value(V).\n",
    "    \n",
    "#show pair/2."
   ]
  }
 ],
 "metadata": {
  "kernelspec": {
   "display_name": "Python 3",
   "language": "python",
   "name": "python3"
  },
  "language_info": {
   "codemirror_mode": {
    "name": "ipython",
    "version": 3
   },
   "file_extension": ".py",
   "mimetype": "text/x-python",
   "name": "python",
   "nbconvert_exporter": "python",
   "pygments_lexer": "ipython3",
   "version": "3.8.8"
  }
 },
 "nbformat": 4,
 "nbformat_minor": 5
}
