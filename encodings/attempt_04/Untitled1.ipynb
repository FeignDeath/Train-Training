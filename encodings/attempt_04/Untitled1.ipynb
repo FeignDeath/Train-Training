{
 "cells": [
  {
   "cell_type": "code",
   "execution_count": 5,
   "id": "6872ef3b",
   "metadata": {},
   "outputs": [
    {
     "name": "stdout",
     "output_type": "stream",
     "text": [
      "/bin/bash: pipenv: command not found\r\n"
     ]
    }
   ],
   "source": [
    "!pipenv shell"
   ]
  },
  {
   "cell_type": "code",
   "execution_count": 6,
   "id": "830dd90a",
   "metadata": {},
   "outputs": [
    {
     "ename": "ModuleNotFoundError",
     "evalue": "No module named 'matplotlib'",
     "output_type": "error",
     "traceback": [
      "\u001b[0;31m---------------------------------------------------------------------------\u001b[0m",
      "\u001b[0;31mModuleNotFoundError\u001b[0m                       Traceback (most recent call last)",
      "Input \u001b[0;32mIn [6]\u001b[0m, in \u001b[0;36m<cell line: 11>\u001b[0;34m()\u001b[0m\n\u001b[1;32m      1\u001b[0m \u001b[38;5;66;03m# import numpy as np\u001b[39;00m\n\u001b[1;32m      2\u001b[0m \u001b[38;5;66;03m# import networkx as nx\u001b[39;00m\n\u001b[1;32m      3\u001b[0m \u001b[38;5;66;03m# import PIL\u001b[39;00m\n\u001b[0;32m   (...)\u001b[0m\n\u001b[1;32m      8\u001b[0m \u001b[38;5;66;03m# from io import BytesIO\u001b[39;00m\n\u001b[1;32m      9\u001b[0m \u001b[38;5;66;03m# from enum import IntEnum\u001b[39;00m\n\u001b[1;32m     10\u001b[0m \u001b[38;5;28;01mfrom\u001b[39;00m \u001b[38;5;21;01mtyping\u001b[39;00m \u001b[38;5;28;01mimport\u001b[39;00m List, NamedTuple, Optional, Dict, Tuple\n\u001b[0;32m---> 11\u001b[0m \u001b[38;5;28;01mimport\u001b[39;00m \u001b[38;5;21;01mmatplotlib\u001b[39;00m\n\u001b[1;32m     12\u001b[0m \u001b[38;5;28;01mfrom\u001b[39;00m \u001b[38;5;21;01mmatplotlib\u001b[39;00m \u001b[38;5;28;01mimport\u001b[39;00m pyplot \u001b[38;5;28;01mas\u001b[39;00m plt\n\u001b[1;32m     13\u001b[0m \u001b[38;5;28;01mfrom\u001b[39;00m \u001b[38;5;21;01mmatplotlib\u001b[39;00m\u001b[38;5;21;01m.\u001b[39;00m\u001b[38;5;21;01manimation\u001b[39;00m \u001b[38;5;28;01mimport\u001b[39;00m FuncAnimation\n",
      "\u001b[0;31mModuleNotFoundError\u001b[0m: No module named 'matplotlib'"
     ]
    }
   ],
   "source": [
    "# import numpy as np\n",
    "# import networkx as nx\n",
    "# import PIL\n",
    "# import itertools\n",
    "# import time\n",
    "# import copy\n",
    "# import sys\n",
    "# from io import BytesIO\n",
    "# from enum import IntEnum\n",
    "from typing import List, NamedTuple, Optional, Dict, Tuple\n",
    "import matplotlib\n",
    "from matplotlib import pyplot as plt\n",
    "from matplotlib.animation import FuncAnimation\n",
    "\n",
    "# we need a lot of frames to render larger rail environments running...\n",
    "#matplotlib.rcParams['animation.embed_limit'] = 2**128 # even this seems problematic when we then do big rendering...\n",
    "#matplotlib.rcParams['animation.embed_limit'] = 2**512 # too much for colab. Seems to lead to disconnect.\n",
    "\n",
    "from collections import deque\n",
    "\n",
    "from IPython.display import HTML, display, clear_output\n",
    "from IPython.terminal.embed import embed\n",
    "import ipywidgets as ipw\n",
    "from ipycanvas import canvas\n",
    "\n",
    "# from clyngor import ASP, solve\n",
    "#from clingo.symbol import Function, Number\n",
    "#from clingo.application import Application, clingo_main\n",
    "\n",
    "from flatland.core.grid.grid4_utils import get_new_position\n",
    "from flatland.envs.agent_utils import Agent, EnvAgent\n",
    "\n",
    "from flatland.envs.rail_env import RailEnv, RailEnvActions\n",
    "from flatland.envs.rail_generators import rail_from_manual_specifications_generator\n",
    "from flatland.envs.rail_generators import rail_from_grid_transition_map\n",
    "from flatland.envs.rail_generators import sparse_rail_generator\n",
    "\n",
    "from flatland.envs.observations import TreeObsForRailEnv\n",
    "\n",
    "from flatland.envs.step_utils.state_machine import TrainStateMachine\n",
    "from flatland.envs.step_utils.states import TrainState\n",
    "from flatland.envs.step_utils.transition_utils import check_action_on_agent\n",
    "from flatland.envs.observations import GlobalObsForRailEnv, TreeObsForRailEnv\n",
    "\n",
    "from flatland.envs.step_utils.transition_utils import check_action_on_agent\n",
    "from flatland.envs.rail_generators import rail_from_grid_transition_map\n",
    "from flatland.envs.rail_generators import rail_from_manual_specifications_generator\n",
    "from flatland.envs.line_generators import sparse_line_generator\n",
    "from flatland.envs.malfunction_generators import malfunction_from_params, MalfunctionParameters, ParamMalfunctionGen\n",
    "\n",
    "from flatland.utils.simple_rail import make_simple_rail, make_simple_rail2 # careful, this is not a rail environment, just a grid transition map...\n",
    "#from flatland.utils.env_edit_utils import makeEnv # broken, does not work in flatland V3...\n",
    "from flatland.utils.simple_rail import make_simple_rail2, make_simple_rail_with_alternatives\n",
    "from flatland.utils.rendertools import RenderTool, AgentRenderVariant"
   ]
  },
  {
   "cell_type": "code",
   "execution_count": null,
   "id": "fbdb0095",
   "metadata": {},
   "outputs": [],
   "source": [
    "import numpy as np\n",
    "from flatland.core.grid.rail_env_grid import RailEnvTransitions\n",
    "from flatland.core.transition_map import GridTransitionMap"
   ]
  }
 ],
 "metadata": {
  "kernelspec": {
   "display_name": "Python 3 (ipykernel)",
   "language": "python",
   "name": "python3"
  },
  "language_info": {
   "codemirror_mode": {
    "name": "ipython",
    "version": 3
   },
   "file_extension": ".py",
   "mimetype": "text/x-python",
   "name": "python",
   "nbconvert_exporter": "python",
   "pygments_lexer": "ipython3",
   "version": "3.9.12"
  }
 },
 "nbformat": 4,
 "nbformat_minor": 5
}
