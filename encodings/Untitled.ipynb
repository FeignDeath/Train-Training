{
 "cells": [
  {
   "cell_type": "code",
   "execution_count": 49,
   "id": "dfda0191",
   "metadata": {},
   "outputs": [
    {
     "name": "stdout",
     "output_type": "stream",
     "text": [
      "clingo version 5.6.2\n",
      "Reading from stdin\n",
      "Solving...\n",
      "Answer: 1\n",
      "in(bright) in(sharp) in(clever) in(quick)\n",
      "Answer: 2\n",
      "in(bright) in(sharp) in(clever) in(mars)\n",
      "Answer: 3\n",
      "in(bright) in(sharp) in(clever) in(lasso)\n",
      "Answer: 4\n",
      "in(bright) in(sharp) in(clever) in(rogers)\n",
      "Answer: 5\n",
      "in(bright) in(sharp) in(smart) in(quick)\n",
      "Answer: 6\n",
      "in(bright) in(sharp) in(smart) in(mars)\n",
      "Answer: 7\n",
      "in(bright) in(sharp) in(smart) in(rogers)\n",
      "Answer: 8\n",
      "in(sharp) in(smart) in(clever) in(quick)\n",
      "Answer: 9\n",
      "in(sharp) in(smart) in(clever) in(mars)\n",
      "Answer: 10\n",
      "in(sharp) in(smart) in(clever) in(rogers)\n",
      "Answer: 11\n",
      "in(sharp) in(smart) in(clever) in(lasso)\n",
      "Answer: 12\n",
      "in(bright) in(smart) in(clever) in(rogers)\n",
      "Answer: 13\n",
      "in(bright) in(smart) in(clever) in(lasso)\n",
      "Answer: 14\n",
      "in(bright) in(smart) in(clever) in(quick)\n",
      "Answer: 15\n",
      "in(bright) in(smart) in(clever) in(mars)\n",
      "Answer: 16\n",
      "in(bright) in(sharp) in(smart) in(clever)\n",
      "SATISFIABLE\n",
      "\n",
      "Models       : 16\n",
      "Calls        : 1\n",
      "Time         : 0.006s (Solving: 0.00s 1st Model: 0.00s Unsat: 0.00s)\n",
      "CPU Time     : 0.003s\n"
     ]
    }
   ],
   "source": [
    "%%clingo 0\n",
    "\n",
    "% facts\n",
    "box(quick).\n",
    "box(mars).\n",
    "box(bright).\n",
    "box(sharp).\n",
    "box(lasso).\n",
    "box(clever).\n",
    "box(rogers).\n",
    "box(smart).\n",
    "\n",
    "% need two sets of four\n",
    "group(a).\n",
    "\n",
    "% Create a predicate to represent the assignment of items to groups\n",
    "{ in(B) : box(B)} = 4.\n",
    "out(B) :- box(B), not in(B).\n",
    "\n",
    "% hints\n",
    ":- in(lasso), in(sharp), in(bright), in(smart).\n",
    ":- not in(lasso), not in(sharp), not in(bright), not in(smart).\n",
    "\n",
    "three(X) :- in(smart), in(sharp), in(bright), X=1.\n",
    "three(X) :- in(smart), in(bright), in(clever), X=1.\n",
    "three(X) :- in(smart), in(sharp), in(clever), X=1.\n",
    "three(X) :- in(sharp), in(bright), in(clever), X=1.\n",
    "    \n",
    "th(X) :- out(smart), out(sharp), out(bright), X=1.\n",
    "th(X) :- out(smart), out(bright), out(clever), X=1.\n",
    "th(X) :- out(smart), out(sharp), out(clever), X=1.\n",
    "th(X) :- out(sharp), out(bright), out(clever), X=1.\n",
    "    \n",
    ":- not three(1).\n",
    "    \n",
    "% Output the assignments\n",
    "%#show in/1.\n",
    "#show in/1.\n",
    "\n"
   ]
  },
  {
   "cell_type": "code",
   "execution_count": null,
   "id": "77c996ce",
   "metadata": {},
   "outputs": [],
   "source": []
  }
 ],
 "metadata": {
  "kernelspec": {
   "display_name": "Python 3",
   "language": "python",
   "name": "python3"
  },
  "language_info": {
   "codemirror_mode": {
    "name": "ipython",
    "version": 3
   },
   "file_extension": ".py",
   "mimetype": "text/x-python",
   "name": "python",
   "nbconvert_exporter": "python",
   "pygments_lexer": "ipython3",
   "version": "3.8.8"
  }
 },
 "nbformat": 4,
 "nbformat_minor": 5
}
