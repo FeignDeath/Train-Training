{
 "cells": [
  {
   "cell_type": "markdown",
   "id": "d32b250f",
   "metadata": {},
   "source": [
    "# Track Transitions\n",
    "\n"
   ]
  },
  {
   "cell_type": "markdown",
   "id": "6a216908",
   "metadata": {},
   "source": [
    "## Track Type #0"
   ]
  },
  {
   "cell_type": "code",
   "execution_count": 91,
   "id": "71808edd",
   "metadata": {},
   "outputs": [
    {
     "name": "stdout",
     "output_type": "stream",
     "text": [
      "clingo version 5.6.2\n",
      "Reading from stdin\n",
      "Solving...\n",
      "Answer: 1\n",
      "path(0,0,0,0,0,0)\n",
      "SATISFIABLE\n",
      "\n",
      "Models       : 1\n",
      "Calls        : 1\n",
      "Time         : 0.000s (Solving: 0.00s 1st Model: 0.00s Unsat: 0.00s)\n",
      "CPU Time     : 0.000s\n"
     ]
    }
   ],
   "source": [
    "%%clingo 0\n",
    "track(0,0,0,0,1).\n",
    "path(0,0,0,0,0,0) :- track(X,Y,0,D,F).\n",
    "#show path/6."
   ]
  },
  {
   "cell_type": "markdown",
   "id": "2e6ae861",
   "metadata": {},
   "source": [
    "---\n",
    "\n",
    "## Track Type #1"
   ]
  },
  {
   "cell_type": "markdown",
   "id": "48b77a9b",
   "metadata": {},
   "source": [
    "### Type A: Straight"
   ]
  },
  {
   "cell_type": "code",
   "execution_count": 92,
   "id": "3897d6d8",
   "metadata": {},
   "outputs": [
    {
     "name": "stdout",
     "output_type": "stream",
     "text": [
      "clingo version 5.6.2\n",
      "Reading from stdin\n",
      "Solving...\n",
      "Answer: 1\n",
      "path(0,-1,0,0,0,1) path(0,1,0,0,0,-1)\n",
      "SATISFIABLE\n",
      "\n",
      "Models       : 1\n",
      "Calls        : 1\n",
      "Time         : 0.000s (Solving: 0.00s 1st Model: 0.00s Unsat: 0.00s)\n",
      "CPU Time     : 0.000s\n"
     ]
    }
   ],
   "source": [
    "%%clingo 0\n",
    "track(0,0,1,0,1).\n",
    "    % expected results - track(0,0,1,0).\n",
    "    % path( (0,-1) (0, 0) (0, 1) )\n",
    "    % path( (0, 1) (0, 0) (0,-1) )\n",
    "\n",
    "path(X0,Y0, X,Y, -1*X0,-1*Y0) :- track(X,Y,1,D,F), X0 = X+(|D-1|-1), Y0 = -1*(Y+(|D-2|-1)). %straight path\n",
    "path(X0,Y0, X1,Y1, X2,Y2) :- path(X2,Y2, X1,Y1, X0,Y0).\n",
    "    \n",
    "#show path/6."
   ]
  },
  {
   "cell_type": "markdown",
   "id": "5018b96f",
   "metadata": {},
   "source": [
    "### Type B: Curved"
   ]
  },
  {
   "cell_type": "code",
   "execution_count": 93,
   "id": "767aff43",
   "metadata": {
    "scrolled": true
   },
   "outputs": [
    {
     "name": "stdout",
     "output_type": "stream",
     "text": [
      "clingo version 5.6.2\n",
      "Reading from stdin\n",
      "Solving...\n",
      "Answer: 1\n",
      "path(0,-1,0,0,-1,0) path(-1,0,0,0,0,-1)\n",
      "SATISFIABLE\n",
      "\n",
      "Models       : 1\n",
      "Calls        : 1\n",
      "Time         : 0.000s (Solving: 0.00s 1st Model: 0.00s Unsat: 0.00s)\n",
      "CPU Time     : 0.000s\n"
     ]
    }
   ],
   "source": [
    "%%clingo 0\n",
    "track(0,0,11,0,1).\n",
    "    % expected results - track(0,0,11,0).\n",
    "    % path( (0,-1) (0, 0) (-1,0) )\n",
    "    % path( (-1,0) (0, 0) (0,-1) )\n",
    "\n",
    "path(X0,Y0, X,Y,    Y0*F,-1*X0*F) :- track(X,Y,11,D,F), X0 = X+(|D-1|-1), Y0 = -1*(Y+(|D-2|-1)). %curved path\n",
    "path(X0,Y0, X1,Y1, X2,Y2)         :- path(X2,Y2, X1,Y1, X0,Y0).\n",
    "    \n",
    "#show path/6."
   ]
  },
  {
   "cell_type": "markdown",
   "id": "14f2edd2",
   "metadata": {},
   "source": [
    "---\n",
    "\n",
    "## Track Type #2\n",
    "Simple switch"
   ]
  },
  {
   "cell_type": "code",
   "execution_count": 96,
   "id": "4ef37efd",
   "metadata": {},
   "outputs": [
    {
     "name": "stdout",
     "output_type": "stream",
     "text": [
      "clingo version 5.6.2\n",
      "Reading from stdin\n",
      "Solving...\n",
      "Answer: 1\n",
      "path(0,-1,0,0,0,1) path(0,-1,0,0,-1,0) path(-1,0,0,0,0,-1) path(0,1,0,0,0,-1)\n",
      "SATISFIABLE\n",
      "\n",
      "Models       : 1\n",
      "Calls        : 1\n",
      "Time         : 0.000s (Solving: 0.00s 1st Model: 0.00s Unsat: 0.00s)\n",
      "CPU Time     : 0.000s\n"
     ]
    }
   ],
   "source": [
    "%%clingo 0\n",
    "track(0,0,2,0,1).\n",
    "    % expected results - track(0,0,2,0,0).\n",
    "    % path( (0,-1) (0, 0) (0, 1) )\n",
    "    % path( (0,-1) (0, 0) (-1,0) )\n",
    "    % path( (0, 1) (0, 0) (0,-1) )\n",
    "    % path( (-1,0) (0, 0) (0,-1) )\n",
    "    \n",
    "path(X0,Y0, X,Y, -1*X0,-1*Y0) :- track(X,Y,2,D,F), X0 = X+(|D-1|-1), Y0 = -1*(Y+(|D-2|-1)). %straight path\n",
    "path(X0,Y0, X,Y,    Y0*F,-1*X0*F) :- track(X,Y,2,D,F), X0 = X+(|D-1|-1), Y0 = -1*(Y+(|D-2|-1)). %curved path\n",
    "path(X0,Y0, X1,Y1, X2,Y2) :- path(X2,Y2, X1,Y1, X0,Y0).\n",
    "    \n",
    "#show path/6."
   ]
  },
  {
   "cell_type": "markdown",
   "id": "0412847f",
   "metadata": {},
   "source": [
    "---\n",
    "\n",
    "## Track Type #3\n",
    "Diamond crossing"
   ]
  },
  {
   "cell_type": "code",
   "execution_count": 97,
   "id": "ebf44cd0",
   "metadata": {},
   "outputs": [
    {
     "name": "stdout",
     "output_type": "stream",
     "text": [
      "clingo version 5.6.2\n",
      "Reading from stdin\n",
      "Solving...\n",
      "Answer: 1\n",
      "path(0,1,0,0,0,-1) path(1,0,0,0,-1,0) path(-1,0,0,0,1,0) path(0,-1,0,0,0,1)\n",
      "SATISFIABLE\n",
      "\n",
      "Models       : 1\n",
      "Calls        : 1\n",
      "Time         : 0.000s (Solving: 0.00s 1st Model: 0.00s Unsat: 0.00s)\n",
      "CPU Time     : 0.000s\n"
     ]
    }
   ],
   "source": [
    "%%clingo 0\n",
    "track(0,0,3,2,1).\n",
    "    % expected results - track(0,0,2,0).\n",
    "    % path( (0,-1) (0, 0) (0, 1) )\n",
    "    % path( (0,-1) (0, 0) (-1,0) )\n",
    "    % path( (0, 1) (0, 0) (0,-1) )\n",
    "    % path( (-1,0) (0, 0) (0,-1) )\n",
    "    \n",
    "path(X0,Y0, X,Y, -1*X0,-1*Y0) :- track(X,Y,3,D,F), X0 = X+(|D-1|-1), Y0 = -1*(Y+(|D-2|-1)). %straight path\n",
    "path(X0,Y0, X,Y, -1*X0,-1*Y0) :- track(X,Y,3,D,F), Y0 = X+(|D-1|-1), X0 = -1*(Y+(|D-2|-1)). %straight path\n",
    "path(X0,Y0, X1,Y1, X2,Y2)     :- path(X2,Y2, X1,Y1, X0,Y0).\n",
    "    \n",
    "#show path/6."
   ]
  },
  {
   "cell_type": "markdown",
   "id": "fdaccff0",
   "metadata": {},
   "source": [
    "---\n",
    "\n",
    "## Track Type #4\n",
    "Single slip switch"
   ]
  },
  {
   "cell_type": "code",
   "execution_count": 110,
   "id": "685e047c",
   "metadata": {},
   "outputs": [
    {
     "name": "stdout",
     "output_type": "stream",
     "text": [
      "clingo version 5.6.2\n",
      "Reading from stdin\n",
      "Solving...\n",
      "Answer: 1\n",
      "path(0,-1,0,0,0,1) path(-1,0,0,0,1,0) path(0,-1,0,0,-1,0) path(-1,0,0,0,0,-1) path(1,0,0,0,-1,0) path(0,1,0,0,0,-1)\n",
      "SATISFIABLE\n",
      "\n",
      "Models       : 1\n",
      "Calls        : 1\n",
      "Time         : 0.001s (Solving: 0.00s 1st Model: 0.00s Unsat: 0.00s)\n",
      "CPU Time     : 0.001s\n"
     ]
    }
   ],
   "source": [
    "%%clingo 0\n",
    "track(0,0,4,0,1).\n",
    "    % expected results - track(0,0,4,0,1).\n",
    "    % path( (0,-1) (0, 0) (0, 1) )\n",
    "    % path( (0,-1) (0, 0) (-1,0) )\n",
    "    % path( (0, 1) (0, 0) (0,-1) )\n",
    "    % path( (-1,0) (0, 0) (0,-1) )\n",
    "    % path( (0,-1) (0, 0) (-1,0) )\n",
    "    % path( (-1,0) (0, 0) (0,-1) )\n",
    "    \n",
    "path(X0,Y0, X,Y, -1*X0,-1*Y0) :- track(X,Y,4,D,F), X0 = X+(|D-1|-1), Y0 = -1*(Y+(|D-2|-1)). %straight path\n",
    "path(X0,Y0, X,Y, -1*X0,-1*Y0) :- track(X,Y,4,D,F), Y0 = X+(|D-1|-1), X0 = -1*(Y+(|D-2|-1)). %straight path\n",
    "path(X0,Y0, X,Y,    Y0*F,-1*X0*F) :- track(X,Y,4,D,F), X0 = X+(|D-1|-1), Y0 = -1*(Y+(|D-2|-1)). %curved path\n",
    "path(X0,Y0, X1,Y1, X2,Y2)     :- path(X2,Y2, X1,Y1, X0,Y0).\n",
    "    \n",
    "#show path/6."
   ]
  },
  {
   "cell_type": "markdown",
   "id": "37600dac",
   "metadata": {},
   "source": [
    "---\n",
    "\n",
    "## Track Type #5 - Under Construction\n",
    "Double slip switch"
   ]
  },
  {
   "cell_type": "code",
   "execution_count": 112,
   "id": "845c4418",
   "metadata": {},
   "outputs": [
    {
     "name": "stdout",
     "output_type": "stream",
     "text": [
      "clingo version 5.6.2\n",
      "Reading from stdin\n",
      "Solving...\n",
      "Answer: 1\n",
      "path(0,-1,0,0,0,1) path(-1,0,0,0,1,0) path(0,-1,0,0,-1,0) path(0,1,0,0,1,0) path(1,0,0,0,0,1) path(-1,0,0,0,0,-1) path(1,0,0,0,-1,0) path(0,1,0,0,0,-1)\n",
      "SATISFIABLE\n",
      "\n",
      "Models       : 1\n",
      "Calls        : 1\n",
      "Time         : 0.001s (Solving: 0.00s 1st Model: 0.00s Unsat: 0.00s)\n",
      "CPU Time     : 0.001s\n"
     ]
    }
   ],
   "source": [
    "%%clingo 0\n",
    "track(0,0,5,0,1).\n",
    "    % expected results - track(0,0,5,0,1).\n",
    "    % slight modification - deviation compared to the original image\n",
    "    % the orientation matches that of the standard of Track Type 4\n",
    "    \n",
    "    % path( (0,-1) (0, 0) (0, 1) ) %straight path #1\n",
    "    % path( (0,-1) (0, 0) (-1,0) ) %curved   path #1\n",
    "    % path( (0, 1) (0, 0) (0,-1) ) %straight path #1 - return\n",
    "    % path( (-1,0) (0, 0) (0,-1) ) %curved   path #1 - return\n",
    "    \n",
    "    % path( (0,-1) (0, 0) (-1,0) ) %straight path #2\n",
    "    % path( (0, 1) (0, 0) (1, 0) ) %curved   path #2\n",
    "    % path( (-1,0) (0, 0) (0,-1) ) %straight path #2 - return\n",
    "    % path( (1, 0) (0, 0) (0, 1) ) %curved   path #2 - return\n",
    "    \n",
    "path(X0,Y0, X,Y, -1*X0,-1*Y0) :- track(X,Y,5,D,F), X0 = X+(|D-1|-1), Y0 = -1*(Y+(|D-2|-1)). %straight path\n",
    "path(X0,Y0, X,Y, -1*X0,-1*Y0) :- track(X,Y,5,D,F), Y0 = X+(|D-1|-1), X0 = -1*(Y+(|D-2|-1)). %straight path\n",
    "path(X0,Y0, X,Y,    Y0*F,-1*X0*F) :- track(X,Y,5,D,F), X0 = X+(|D-1|-1), Y0 = -1*(Y+(|D-2|-1)). %curved path\n",
    "path(X0,Y0, X,Y,    Y0*F,-1*X0*F) :- track(X,Y,5,D,F), X0 = -1*(X+(|D-1|-1)), Y0 = (Y+(|D-2|-1)). %curved path\n",
    "path(X0,Y0, X1,Y1, X2,Y2)     :- path(X2,Y2, X1,Y1, X0,Y0).\n",
    "    \n",
    "#show path/6."
   ]
  },
  {
   "cell_type": "markdown",
   "id": "ffa582bb",
   "metadata": {},
   "source": [
    "---\n",
    "\n",
    "## Track Type #6\n",
    "Symmetrical switch"
   ]
  },
  {
   "cell_type": "code",
   "execution_count": 101,
   "id": "bba86ad0",
   "metadata": {},
   "outputs": [
    {
     "name": "stdout",
     "output_type": "stream",
     "text": [
      "clingo version 5.6.2\n",
      "Reading from stdin\n",
      "Solving...\n",
      "Answer: 1\n",
      "path(0,-1,0,0,-1,0) path(0,-1,0,0,1,0) path(1,0,0,0,0,-1) path(-1,0,0,0,0,-1)\n",
      "SATISFIABLE\n",
      "\n",
      "Models       : 1\n",
      "Calls        : 1\n",
      "Time         : 0.004s (Solving: 0.00s 1st Model: 0.00s Unsat: 0.00s)\n",
      "CPU Time     : 0.002s\n"
     ]
    }
   ],
   "source": [
    "%%clingo 0\n",
    "track(0,0,6,0,1).\n",
    "    % expected results - track(0,0,2,0,0).\n",
    "    % path( (0,-1) (0, 0) (0, 1) )\n",
    "    % path( (0,-1) (0, 0) (-1,0) )\n",
    "    % path( (0, 1) (0, 0) (0,-1) )\n",
    "    % path( (-1,0) (0, 0) (0,-1) )\n",
    "    \n",
    "path(X0, Y0, X,  Y,     Y0, -1*X0) :- track(X,Y,6,D,F), X0 = X+(|D-1|-1), Y0 = -1*(Y+(|D-2|-1)). %curved path\n",
    "path(X0, Y0, X,  Y,  -1*Y0,    X0) :- track(X,Y,6,D,F), X0 = X+(|D-1|-1), Y0 = -1*(Y+(|D-2|-1)). %curved path\n",
    "path(X0, Y0, X1, Y1,    X2,    Y2) :- path(X2,Y2, X1,Y1, X0,Y0).\n",
    "    \n",
    "#show path/6."
   ]
  },
  {
   "cell_type": "markdown",
   "id": "52e74f16",
   "metadata": {},
   "source": [
    "---\n",
    "\n",
    "## Track Type #7\n",
    "Deadend"
   ]
  },
  {
   "cell_type": "code",
   "execution_count": null,
   "id": "33efe840",
   "metadata": {},
   "outputs": [],
   "source": []
  }
 ],
 "metadata": {
  "kernelspec": {
   "display_name": "Python 3 (ipykernel)",
   "language": "python",
   "name": "python3"
  },
  "language_info": {
   "codemirror_mode": {
    "name": "ipython",
    "version": 3
   },
   "file_extension": ".py",
   "mimetype": "text/x-python",
   "name": "python",
   "nbconvert_exporter": "python",
   "pygments_lexer": "ipython3",
   "version": "3.9.12"
  }
 },
 "nbformat": 4,
 "nbformat_minor": 5
}
