{
 "cells": [
  {
   "cell_type": "markdown",
   "id": "d541f6de",
   "metadata": {},
   "source": [
    "# Attempt 3\n",
    "\n",
    "Here is an outline of what has been accomplished and modified"
   ]
  },
  {
   "cell_type": "code",
   "execution_count": 22,
   "id": "3a70655c",
   "metadata": {},
   "outputs": [],
   "source": [
    "from IPython.display import Image\n",
    "from IPython.core.display import HTML"
   ]
  },
  {
   "cell_type": "markdown",
   "id": "69b217df",
   "metadata": {},
   "source": [
    "## Purpose\n",
    "\n",
    "In ASP, the multi-agent pathfinding (MAPF) problem is very well explored.  Documented are several methods for solving the problem efficiently.  However, many of these are designed for four- or eight-connected cells.  What separates the Flatland environment from traditional MAPF environments is its variation of possible connections and transitions between cells, which are not uniform throughout.\n",
    "\n",
    "For this reason, the first major step in building out an encoding is finding the most efficient way to build out a path for a single agent."
   ]
  },
  {
   "cell_type": "markdown",
   "id": "ef2ea971",
   "metadata": {},
   "source": [
    "## Overview\n",
    "\n",
    "Each problem then contains three separate files:\n",
    "1. `types.lp` which defines the track types and possible transitions, and is consistent across all instances\n",
    "2. `environment.lp` which is the custom environment that is being tested\n",
    "    1. This defines each cell location and its track type/rotation\n",
    "    2. It also contains `start()` and `end()` locations for agents, as well as a `maxTime()` parameter\n",
    "3. `encoding.lp` which is consistent across all instances\n"
   ]
  },
  {
   "cell_type": "markdown",
   "id": "ce5a6b35",
   "metadata": {},
   "source": [
    "---\n",
    "\n",
    "## `types.lp`\n",
    "> Cells are represented differently\n",
    "\n",
    "* Originally, a hypergraph (specific to each environment) was established to define transitions between cells\n",
    "* Then, cells were defined by a matrix\n",
    "* Now, cells are defined by a set of possible moves\n",
    "\n",
    "### Hypergraph\n",
    "\n",
    "`path( cell(0,0), cell(0,1), cell(0,2) )` <br>\n",
    "`path( cell(0,2), cell(0,1), cell(0,0) )`\n",
    "\n",
    "Two primary problems:\n",
    "1. This could not be reused, as it was specific to each environment.\n",
    "2. The checking process was extremely slow.\n",
    "\n",
    "\n",
    "### Matrix\n",
    "\n",
    "`Type 1/90`<br>\n",
    "`• L F R` <br>\n",
    "`N 0 1 0` <br>\n",
    "`W 0 0 0` <br>\n",
    "`S 0 1 0` <br>\n",
    "`E 0 0 0` <br>\n",
    "\n",
    "This works, but:\n",
    "1. It requires Python.\n",
    "2. It is difficult to represent in ASP, at least in a readable way.\n",
    "\n",
    "### Sets of moves\n",
    "\n",
    "`Type 1/90 {(North,Forward),(South,Forward)}`"
   ]
  },
  {
   "cell_type": "code",
   "execution_count": 28,
   "id": "39ec0cdb",
   "metadata": {},
   "outputs": [
    {
     "data": {
      "text/html": [
       "<img src=\"type_01.png\" width=\"300\"/>"
      ],
      "text/plain": [
       "<IPython.core.display.Image object>"
      ]
     },
     "execution_count": 28,
     "metadata": {},
     "output_type": "execute_result"
    }
   ],
   "source": [
    "Image(url= \"type_01.png\", width = 300)"
   ]
  },
  {
   "cell_type": "markdown",
   "id": "7ad9d99e",
   "metadata": {},
   "source": [
    "`type( (Track Type, Rotation), (Origin, Direction) )`"
   ]
  },
  {
   "cell_type": "code",
   "execution_count": 31,
   "id": "296a94c4",
   "metadata": {
    "scrolled": false
   },
   "outputs": [
    {
     "name": "stdout",
     "output_type": "stream",
     "text": [
      "clingo version 5.6.2\n",
      "Reading from stdin\n",
      "Solving...\n",
      "Answer: 1\n",
      "type((1,0),(n,f)) type((1,0),(s,f)) type((1,90),(w,f)) type((1,90),(e,f))\n",
      "SATISFIABLE\n",
      "\n",
      "Models       : 1\n",
      "Calls        : 1\n",
      "Time         : 0.003s (Solving: 0.00s 1st Model: 0.00s Unsat: 0.00s)\n",
      "CPU Time     : 0.001s\n"
     ]
    }
   ],
   "source": [
    "%%clingo 0\n",
    "\n",
    "% Track Type 1 - Straight\n",
    "type((1,0) , (n,f)).    type((1,0) , (s,f)).\n",
    "type((1,90), (w,f)).    type((1,90), (e,f))."
   ]
  },
  {
   "cell_type": "markdown",
   "id": "a9e08d5f",
   "metadata": {},
   "source": [
    "---\n",
    "\n",
    "## `environment.lp`\n",
    "Each cell and track type is defined.  Below are the environment parameters."
   ]
  },
  {
   "cell_type": "code",
   "execution_count": null,
   "id": "d40d7282",
   "metadata": {},
   "outputs": [],
   "source": [
    "# %%clingo 0\n",
    "\n",
    "% Potsdam environment\n",
    "cell((0,5), (7,90)).\n",
    "cell((1,5), (1,90)).\n",
    "cell((2,5), (1,90)).\n",
    "cell((3,5), (22,90)).\n",
    "cell((3,6), (1,0)).\n",
    "[...]\n",
    "\n",
    "% parameters\n",
    "start(cell(24,4), dir(w)).\n",
    "end(cell(3,8)).\n",
    "maxTime(25)."
   ]
  },
  {
   "cell_type": "markdown",
   "id": "4b4aaad0",
   "metadata": {},
   "source": [
    "---\n",
    "\n",
    "## `encoding.lp`\n",
    "The encoding has been adjusted to account for the new cell representations."
   ]
  },
  {
   "cell_type": "code",
   "execution_count": null,
   "id": "762de118",
   "metadata": {},
   "outputs": [],
   "source": [
    "%%clingo 0\n",
    "\n",
    "% determine first two cells\n",
    "at(cell(X0,Y0), 0, D) :- start(cell(X0,Y0), dir(D)).\n",
    "at(cell(X1,Y1), 1, DD) :- at(cell(X0,Y0), 0, D), swap(D,From), offset((From,f), (DX,DY), DD), X1=X0+DX, Y1=Y0+DY.\n",
    "\n",
    "% determine all subsequent moves\n",
    "{ do(A,T) : move(A) } = 1 :- maxTime(M), T=2..M.\n",
    "at(cell(X+DX,Y+DY), T, DD) :-  \n",
    "    do(A,T), at(cell(X,Y), T-1, D), swap(D,From), cell((X,Y), (Type,Rotation)), \n",
    "    offset((From,A), (DX,DY), DD), type((Type,Rotation), (From,A)).\n",
    "\n",
    "% must reach the goal\n",
    ":- end(cell(X,Y)), not at(cell(X,Y), _, _).\n",
    "\n",
    "% must be a valid cell\n",
    ":- at(cell(X,Y), T, D), not cell((X,Y), _).\n",
    "\n",
    "#show at/3."
   ]
  },
  {
   "cell_type": "markdown",
   "id": "108b8024",
   "metadata": {},
   "source": [
    "### Example"
   ]
  },
  {
   "cell_type": "code",
   "execution_count": 23,
   "id": "773edc3f",
   "metadata": {},
   "outputs": [
    {
     "data": {
      "text/html": [
       "<img src=\"potsdam_example.png\"/>"
      ],
      "text/plain": [
       "<IPython.core.display.Image object>"
      ]
     },
     "execution_count": 23,
     "metadata": {},
     "output_type": "execute_result"
    }
   ],
   "source": [
    "Image(url= \"potsdam_example.png\")"
   ]
  },
  {
   "cell_type": "markdown",
   "id": "8a75e35d",
   "metadata": {},
   "source": [
    "**Previously, a path of 16 steps was taking about 8 minutes to calculate.  Here, a path of 25 steps takes 0.008 seconds.**\n",
    "```\n",
    "% parameters\n",
    "start(cell(24,4), dir(w)).\n",
    "end(cell(3,8)).\n",
    "maxTime(25).\n",
    "```\n",
    "---\n",
    "```\n",
    "Reading from encoding.lp ...\n",
    "Solving...\n",
    "Answer: 1\n",
    "at(cell(24,4),0,w) at(cell(23,4),1,w) at(cell(23,5),2,n) at(cell(22,5),3,w) at(cell(21,5),4,w) at(cell(20,5),5,w) at(cell(19,5),6,w) at(cell(18,5),7,w) at(cell(17,5),8,w) at(cell(16,5),9,w) at(cell(15,5),10,w) at(cell(14,5),11,w) at(cell(13,5),12,w) at(cell(12,5),13,w) at(cell(11,5),14,w) at(cell(10,5),15,w) at(cell(9,5),16,w) at(cell(8,5),17,w) at(cell(7,5),18,w) at(cell(6,5),19,w) at(cell(5,5),20,w) at(cell(4,5),21,w) at(cell(3,5),22,w) at(cell(3,6),23,n) at(cell(3,7),24,n) at(cell(3,8),25,n)\n",
    "SATISFIABLE\n",
    "\n",
    "Models       : 1\n",
    "Calls        : 1\n",
    "Time         : 0.008s (Solving: 0.00s 1st Model: 0.00s Unsat: 0.00s)\n",
    "CPU Time     : 0.008s\n",
    "```"
   ]
  },
  {
   "cell_type": "markdown",
   "id": "61c66cf3",
   "metadata": {},
   "source": [
    "---\n",
    "\n",
    "## Next steps\n",
    "\n",
    "* Including multiple agents\n",
    "* Working with Flatland\n",
    "    * Visualizing the results\n",
    "    * Generating new environments"
   ]
  },
  {
   "cell_type": "code",
   "execution_count": 20,
   "id": "dc6c1bbc",
   "metadata": {},
   "outputs": [
    {
     "data": {
      "text/html": [
       "<img src=\"track_types_id.png\"/>"
      ],
      "text/plain": [
       "<IPython.core.display.Image object>"
      ]
     },
     "execution_count": 20,
     "metadata": {},
     "output_type": "execute_result"
    }
   ],
   "source": [
    "Image(url= \"track_types_id.png\")"
   ]
  },
  {
   "cell_type": "markdown",
   "id": "e9e86df3",
   "metadata": {},
   "source": [
    "A silly custom example."
   ]
  },
  {
   "cell_type": "code",
   "execution_count": 30,
   "id": "fcb604f4",
   "metadata": {
    "scrolled": false
   },
   "outputs": [
    {
     "data": {
      "text/html": [
       "<img src=\"silly.png\" width=\"750\"/>"
      ],
      "text/plain": [
       "<IPython.core.display.Image object>"
      ]
     },
     "execution_count": 30,
     "metadata": {},
     "output_type": "execute_result"
    }
   ],
   "source": [
    "Image(url= \"silly.png\", width=750)"
   ]
  }
 ],
 "metadata": {
  "kernelspec": {
   "display_name": "Python 3",
   "language": "python",
   "name": "python3"
  },
  "language_info": {
   "codemirror_mode": {
    "name": "ipython",
    "version": 3
   },
   "file_extension": ".py",
   "mimetype": "text/x-python",
   "name": "python",
   "nbconvert_exporter": "python",
   "pygments_lexer": "ipython3",
   "version": "3.8.8"
  }
 },
 "nbformat": 4,
 "nbformat_minor": 5
}
