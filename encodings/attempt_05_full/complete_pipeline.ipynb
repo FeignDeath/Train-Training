{
 "cells": [
  {
   "cell_type": "markdown",
   "id": "ad5f8e55",
   "metadata": {},
   "source": [
    "# Complete pipeline\n",
    "\n",
    "1. We create a simple environment in Flatland that has only a single agent.  The agent is given a starting position and a goal.\n",
    "2. This information is fed to a Clingo encoding, which produces a path for the agent from the start to the goal.\n",
    "3. We return this path information to Flatland in a manner which can be interpreted and visualized."
   ]
  },
  {
   "cell_type": "markdown",
   "id": "882b767b",
   "metadata": {},
   "source": [
    "## Flatland environment generation\n",
    "\n",
    "This is Flatland code, not my own."
   ]
  },
  {
   "cell_type": "code",
   "execution_count": 12,
   "id": "e243704c",
   "metadata": {},
   "outputs": [],
   "source": [
    "# import packages\n",
    "import numpy as np\n",
    "\n",
    "from flatland.envs.rail_env import RailEnv, RailEnvActions\n",
    "from flatland.envs.rail_generators import rail_from_manual_specifications_generator\n",
    "from flatland.envs.rail_generators import rail_from_grid_transition_map\n",
    "from flatland.envs.rail_generators import sparse_rail_generator\n",
    "from flatland.envs.observations import TreeObsForRailEnv\n",
    "\n",
    "from flatland.core.grid.rail_env_grid import RailEnvTransitions\n",
    "from flatland.core.transition_map import GridTransitionMap"
   ]
  },
  {
   "cell_type": "code",
   "execution_count": 13,
   "id": "88f904d6",
   "metadata": {},
   "outputs": [],
   "source": [
    "def make_environment():\n",
    "    \"\"\"create an environment by specifying the track type of each cell\"\"\"\n",
    "    transitions = RailEnvTransitions()\n",
    "    cells = transitions.transition_list\n",
    "    \n",
    "    # rail map: track types by ID values\n",
    "    rail_map = np.array(\n",
    "        [[0] + [16386] + [256]]\n",
    "        + [[4] + [3089] +[256]]\n",
    "        , dtype=np.uint16)\n",
    "\n",
    "    # rail: transitions based on track types\n",
    "    rail = GridTransitionMap(width=rail_map.shape[1], height=rail_map.shape[0], transitions=transitions)\n",
    "    \n",
    "    # optionals\n",
    "    rail.grid = rail_map\n",
    "    city_positions = [(0,1), (3,0)]\n",
    "    train_stations = [[((0,1),0)], [((3,0),0)],]\n",
    "    city_orientations = [0,0]\n",
    "    agents_hints = {\n",
    "        'city_positions': city_positions,\n",
    "        'train_stations': train_stations,\n",
    "        'city_orientations': city_orientations\n",
    "    }\n",
    "    optionals = {'agents_hints': agents_hints}\n",
    "    return rail, rail_map, optionals"
   ]
  },
  {
   "cell_type": "code",
   "execution_count": 14,
   "id": "0ca3a95e",
   "metadata": {},
   "outputs": [],
   "source": [
    "rail, rail_map, optionals = make_environment()\n",
    "rail_gen = rail_from_grid_transition_map(rail_map=rail, optionals=optionals)\n",
    "hand_crafted_env = RailEnv(width=3, height=2, rail_generator=rail_gen, number_of_agents=1, obs_builder_object=TreeObsForRailEnv(max_depth=0))\n"
   ]
  },
  {
   "cell_type": "markdown",
   "id": "ac1461e8",
   "metadata": {},
   "source": [
    "### Example output of Flatland's `rail_map`"
   ]
  },
  {
   "cell_type": "code",
   "execution_count": 15,
   "id": "4cc07a6b",
   "metadata": {
    "scrolled": true
   },
   "outputs": [
    {
     "data": {
      "text/plain": [
       "array([[    0, 16386,   256],\n",
       "       [    4,  3089,   256]], dtype=uint16)"
      ]
     },
     "execution_count": 15,
     "metadata": {},
     "output_type": "execute_result"
    }
   ],
   "source": [
    "rail_map\n"
   ]
  },
  {
   "cell_type": "markdown",
   "id": "4e253fc9",
   "metadata": {},
   "source": [
    "## Clingo pathfinding encoding"
   ]
  },
  {
   "cell_type": "code",
   "execution_count": 16,
   "id": "5bcb2f64",
   "metadata": {},
   "outputs": [],
   "source": [
    "from pathlib import Path"
   ]
  },
  {
   "cell_type": "markdown",
   "id": "5ba3072e",
   "metadata": {},
   "source": [
    "### `clingo_map` class"
   ]
  },
  {
   "cell_type": "code",
   "execution_count": 17,
   "id": "76f7546d",
   "metadata": {},
   "outputs": [],
   "source": [
    "class clingo_map():\n",
    "    \"\"\"an alternative representation of a Flatland map that clingo can process\"\"\"\n",
    "    \n",
    "    def __init__(self, rail_map):\n",
    "        self.clingo_str = \"\"\n",
    "        self.mapping = {}\n",
    "        \n",
    "        row_num = len(rail_map) - 1\n",
    "        for row in rail_map:\n",
    "            for col,cval in enumerate(row):\n",
    "                self.clingo_str += \"cell(({},{}), {}). \".format(col,row_num,cval)\n",
    "                self.mapping[(col,row_num)] = cval\n",
    "            row_num -= 1\n"
   ]
  },
  {
   "cell_type": "code",
   "execution_count": 18,
   "id": "bccd2214",
   "metadata": {},
   "outputs": [
    {
     "name": "stdout",
     "output_type": "stream",
     "text": [
      "cell((0,1), 0). cell((1,1), 16386). cell((2,1), 256). cell((0,0), 4). cell((1,0), 3089). cell((2,0), 256). \n"
     ]
    }
   ],
   "source": [
    "env = clingo_map(rail_map)\n",
    "print(env.clingo_str) # take a look\n"
   ]
  },
  {
   "cell_type": "code",
   "execution_count": 19,
   "id": "5dd894c3",
   "metadata": {},
   "outputs": [],
   "source": [
    "import clingo\n",
    "\n",
    "def on_model(m):\n",
    "    \"\"\"print results upon solving\"\"\"\n",
    "    print(m)"
   ]
  },
  {
   "cell_type": "code",
   "execution_count": 20,
   "id": "d976335c",
   "metadata": {},
   "outputs": [
    {
     "name": "stdout",
     "output_type": "stream",
     "text": [
      "offset((n,f),(0,-1),s) offset((w,r),(0,-1),s) offset((e,l),(0,-1),s) offset((e,f),(-1,0),w) offset((n,r),(-1,0),w) offset((s,l),(-1,0),w) offset((s,f),(0,1),n) offset((w,l),(0,1),n) offset((e,r),(0,1),n) offset((w,f),(1,0),e) offset((n,l),(1,0),e) offset((s,r),(1,0),e) swap(n,s) swap(s,n) swap(e,w) swap(w,e) move(f) move(l) move(r) move(wait) type(32800,(n,f)) type(32800,(s,f)) type(1025,(w,f)) type(1025,(e,f)) type(4608,(s,l)) type(4608,(w,r)) type(16386,(e,l)) type(16386,(s,r)) type(72,(n,l)) type(72,(e,r)) type(2064,(w,l)) type(2064,(n,r)) type(37408,(s,l)) type(37408,(w,r)) type(37408,(s,f)) type(37408,(n,f)) type(17411,(e,l)) type(17411,(s,r)) type(17411,(e,f)) type(17411,(w,f)) type(32872,(n,l)) type(32872,(e,r)) type(32872,(n,f)) type(32872,(s,f)) type(3089,(w,l)) type(3089,(n,r)) type(3089,(w,f)) type(3089,(e,f)) type(49186,(s,r)) type(49186,(e,l)) type(49186,(s,f)) type(49186,(n,f)) type(1097,(e,r)) type(1097,(n,l)) type(1097,(e,f)) type(1097,(w,f)) type(34864,(n,r)) type(34864,(w,l)) type(34864,(n,f)) type(34864,(s,f)) type(5633,(w,r)) type(5633,(s,l)) type(5633,(w,f)) type(5633,(e,f)) type(33825,(n,f)) type(33825,(s,f)) type(33825,(e,f)) type(33825,(w,f)) type((4,0),(n,f)) type((4,0),(s,f)) type((4,0),(e,f)) type((4,0),(w,f)) type((4,0),(s,l)) type((4,0),(w,r)) type((4,90),(n,f)) type((4,90),(s,f)) type((4,90),(e,f)) type((4,90),(w,f)) type((4,90),(e,l)) type((4,90),(s,r)) type((4,180),(n,f)) type((4,180),(s,f)) type((4,180),(e,f)) type((4,180),(w,f)) type((4,180),(n,l)) type((4,180),(e,r)) type((4,270),(n,f)) type((4,270),(s,f)) type((4,270),(e,f)) type((4,270),(w,f)) type((4,270),(w,l)) type((4,270),(n,r)) type((5,0),(n,f)) type((5,0),(s,f)) type((5,0),(e,f)) type((5,0),(w,f)) type((5,0),(s,l)) type((5,0),(w,r)) type((5,0),(n,l)) type((5,0),(e,r)) type((5,90),(n,f)) type((5,90),(s,f)) type((5,90),(e,f)) type((5,90),(w,f)) type((5,90),(e,l)) type((5,90),(s,r)) type((5,90),(w,l)) type((5,90),(n,r)) type((6,0),(s,l)) type((6,0),(w,r)) type((6,0),(e,l)) type((6,0),(s,r)) type((6,90),(e,l)) type((6,90),(s,r)) type((6,90),(n,l)) type((6,90),(e,r)) type((6,180),(n,l)) type((6,180),(e,r)) type((6,180),(w,l)) type((6,180),(n,r)) type((6,270),(w,l)) type((6,270),(n,r)) type((6,270),(s,l)) type((6,270),(w,r)) type(8192,(s,f)) type(4,(e,f)) type(128,(n,f)) type(256,(w,f)) cell((0,1),0) cell((1,1),16386) cell((2,1),256) cell((0,0),4) cell((1,0),3089) cell((2,0),256) dir(e) dir(w) dir(n) dir(s)\n"
     ]
    },
    {
     "data": {
      "text/plain": [
       "SolveResult(1)"
      ]
     },
     "execution_count": 20,
     "metadata": {},
     "output_type": "execute_result"
    }
   ],
   "source": [
    "# clingo API\n",
    "ctl = clingo.Control()\n",
    "\n",
    "# load the map into clingo\n",
    "ctl.add(\"base\", [], env.clingo_str)\n",
    "\n",
    "# load the types.lp reference file\n",
    "types = Path('../attempt_05_full/types.lp').read_text()\n",
    "ctl.add(\"base\", [], types)\n",
    "\n",
    "# load the encoding\n",
    "encoding = Path('../attempt_05_full/encoding.lp').read_text() \n",
    "ctl.add(\"base\", [], encoding)\n",
    "\n",
    "# ground & solve\n",
    "ctl.ground([(\"base\", [])])\n",
    "ctl.solve(on_model=on_model)"
   ]
  },
  {
   "cell_type": "markdown",
   "id": "1e7359c7",
   "metadata": {},
   "source": [
    "**Expected result**\n",
    "\n",
    "`at(cell(0,0),0,e) at(cell(1,0),1,e) at(cell(1,1),2,n) at(cell(2,1),3,e)`"
   ]
  },
  {
   "cell_type": "code",
   "execution_count": 141,
   "id": "c49520d5",
   "metadata": {},
   "outputs": [
    {
     "data": {
      "text/plain": [
       "{(0, 1): 0, (1, 1): 16386, (2, 1): 256, (0, 0): 4, (1, 0): 3089, (2, 0): 256}"
      ]
     },
     "execution_count": 141,
     "metadata": {},
     "output_type": "execute_result"
    }
   ],
   "source": [
    "env.mapping"
   ]
  },
  {
   "cell_type": "markdown",
   "id": "068fea2d",
   "metadata": {},
   "source": [
    "### Translate solution → actions"
   ]
  },
  {
   "cell_type": "code",
   "execution_count": 150,
   "id": "d6133c5c",
   "metadata": {},
   "outputs": [],
   "source": [
    "# translate clingo solution into moves\n",
    "switch_ids = [37408,17411,32872,3089,49186,1097,34864,5633,38433,50211,33897,35889,38505,52275,20994,16458,2136,6672]\n",
    "\n",
    "def is_switch(loc, env): #env.mapping\n",
    "    \"\"\"\n",
    "    given a location and its environment, determine whether the cell has a switch\n",
    "    \"\"\"\n",
    "    return env[loc] in switch_ids\n",
    "\n",
    "def next_move(dirs, locs, env):\n",
    "    \"\"\"\n",
    "    given:\n",
    "        * a current cardinal direction and the following one, \n",
    "        * a current location and the following one\n",
    "        * an environment\n",
    "    return what move the train should make\n",
    "    \"\"\"\n",
    "    if locs[0] == locs[1]:\n",
    "        return \"STOP_MOVING\"\n",
    "    elif dirs[0] == dirs[1]:\n",
    "        return \"MOVE_FORWARD\"\n",
    "    #elif \n"
   ]
  },
  {
   "cell_type": "code",
   "execution_count": 148,
   "id": "8b83288e",
   "metadata": {},
   "outputs": [
    {
     "data": {
      "text/plain": [
       "True"
      ]
     },
     "execution_count": 148,
     "metadata": {},
     "output_type": "execute_result"
    }
   ],
   "source": [
    "is_switch((1,0),env.mapping)"
   ]
  },
  {
   "cell_type": "markdown",
   "id": "5483a7b3",
   "metadata": {},
   "source": [
    "## Flatland visualization"
   ]
  },
  {
   "cell_type": "code",
   "execution_count": 3,
   "id": "8722bf88",
   "metadata": {},
   "outputs": [],
   "source": [
    "# code here"
   ]
  },
  {
   "cell_type": "code",
   "execution_count": 10,
   "id": "3a7a3403",
   "metadata": {
    "scrolled": true
   },
   "outputs": [
    {
     "name": "stdout",
     "output_type": "stream",
     "text": [
      "clingo version 5.6.2\n",
      "Reading from stdin\n",
      "Solving...\n",
      "Answer: 1\n",
      "\n",
      "Answer: 2\n",
      "q(2)\n",
      "Answer: 3\n",
      "q(3)\n",
      "Answer: 4\n",
      "q(2) q(3)\n",
      "Answer: 5\n",
      "q(1) a\n",
      "Answer: 6\n",
      "q(1) q(3) a\n",
      "Answer: 7\n",
      "q(1) q(2) a\n",
      "Answer: 8\n",
      "q(1) q(2) q(3) a\n",
      "SATISFIABLE\n",
      "\n",
      "Models       : 8\n",
      "Calls        : 1\n",
      "Time         : 0.008s (Solving: 0.00s 1st Model: 0.00s Unsat: 0.00s)\n",
      "CPU Time     : 0.002s\n"
     ]
    }
   ],
   "source": [
    "%%clingo 0\n",
    "\n",
    "p(1). p(2). p(3).\n",
    "{ holds(q(X)) : p(X) }.\n",
    "holds(a) :- holds(q(1)).\n",
    "#show.\n",
    "#show X : holds(X)."
   ]
  },
  {
   "cell_type": "code",
   "execution_count": 103,
   "id": "c366f014",
   "metadata": {
    "scrolled": true
   },
   "outputs": [
    {
     "name": "stdout",
     "output_type": "stream",
     "text": [
      "clingo version 5.6.2\n",
      "Reading from stdin\n",
      "Solving...\n",
      "Answer: 1\n",
      "moving(0,1) moving(1,2) moving(2,3)\n",
      "SATISFIABLE\n",
      "\n",
      "Models       : 1\n",
      "Calls        : 1\n",
      "Time         : 0.001s (Solving: 0.00s 1st Model: 0.00s Unsat: 0.00s)\n",
      "CPU Time     : 0.001s\n"
     ]
    }
   ],
   "source": [
    "%%clingo 0\n",
    "\n",
    "% given\n",
    "at(cell(0,0),0,e).\n",
    "at(cell(1,0),1,e).\n",
    "at(cell(1,1),2,n).\n",
    "at(cell(2,1),3,e).\n",
    "\n",
    "% MOVEMENT %\n",
    "% determine whether the train is in motion or remaining in its current location %\n",
    "\n",
    "stationary(T0,T1) :- at(cell(X,Y),T0,_), at(cell(X,Y),T1,_), T1-T0=1, T0<T1.\n",
    "moving(T0,T1) :- at(cell(X0,Y0),T0,_), at(cell(X1,Y1),T1,_), T1-T0=1, T0<T1, (X0+Y0)<(X1+Y1).\n",
    "    \n",
    "% ROTATION %\n",
    "% what is the rotation?\n",
    "%orientation\n",
    "orient(T,0) :- at(_,T,n).\n",
    "orient(T,1) :- at(_,T,e).\n",
    "orient(T,2) :- at(_,T,s).\n",
    "orient(T,3) :- at(_,T,w).\n",
    "    \n",
    "%rotate_0(T0,T1) :- at(_,T0,D), at(_,T1,D), T1-T0=1, T0<T1.\n",
    "    \n",
    "%rotate_0(T0,T1) :- at(_,T0,_), at(_,T1,_), orient(T0,D0), orient(T1,D1), T1-T0=1, T0<T1, D1=D0.\n",
    "%rotate_90(T0,T1) :- at(_,T0,_), at(_,T1,_), orient(T0,D0), orient(T1,D1), T1-T0=1, T0<T1, 4\\(D1-D0)=1.\n",
    "%rotate_180(T0,T1) :- at(_,T0,_), at(_,T1,_), orient(T0,D0), orient(T1,D1), T1-T0=1, T0<T1, 4\\(D1-D0)=2.\n",
    "%rotate_270(T0,T1) :- at(_,T0,_), at(_,T1,_), orient(T0,D0), orient(T1,D1), T1-T0=1, T0<T1, 4\\(D1-D0)=3.\n",
    "    \n",
    "%rotate(T0,T1,R) :- at(_,T0,_), at(_,T1,_), orient(T0,D0), orient(T1,D1), T1-T0=1, T0<T1, Diff = D1-D0, R=4 \\ Diff.\n",
    "\n",
    "%#show.\n",
    "#show stationary/2.\n",
    "#show moving/2.\n",
    "%#show rotate/3.\n",
    "%#show orientation/2.\n",
    "%#show stop_moving(T) : a, at(cell(X,Y),T,D).\n",
    "%#show move_left(T) : b, at(cell(X,Y),T,D).\n",
    "%#show move_right(T) : c, at(cell(X,Y),T,D).\n",
    "%#show move_forward(T) : not a, not b, not c, at(cell(X,Y),T,D)."
   ]
  },
  {
   "cell_type": "code",
   "execution_count": 136,
   "id": "ef000116",
   "metadata": {},
   "outputs": [
    {
     "name": "stdout",
     "output_type": "stream",
     "text": [
      "clingo version 5.6.2\n",
      "Reading from stdin\n",
      "Solving...\n",
      "Answer: 1\n",
      "mod(12,4,0)\n",
      "SATISFIABLE\n",
      "\n",
      "Models       : 1\n",
      "Calls        : 1\n",
      "Time         : 0.001s (Solving: 0.00s 1st Model: 0.00s Unsat: 0.00s)\n",
      "CPU Time     : 0.000s\n"
     ]
    }
   ],
   "source": [
    "%%clingo 0\n",
    "\n",
    "mod(X,Y,Z) :- X=12, Y=4, Z=X\\Y."
   ]
  },
  {
   "cell_type": "code",
   "execution_count": null,
   "id": "fae795f5",
   "metadata": {},
   "outputs": [],
   "source": []
  },
  {
   "cell_type": "code",
   "execution_count": 143,
   "id": "d5ee1bcb",
   "metadata": {
    "scrolled": true
   },
   "outputs": [
    {
     "name": "stdout",
     "output_type": "stream",
     "text": [
      "clingo version 5.6.2\n",
      "Reading from stdin\n",
      "Solving...\n",
      "Answer: 1\n",
      "movement(0,1) movement(1,1) movement(2,0) movement(3,1) rotation(0,0) rotation(1,-1) rotation(2,0) rotation(3,1) stop_moving(2)\n",
      "SATISFIABLE\n",
      "\n",
      "Models       : 1\n",
      "Calls        : 1\n",
      "Time         : 0.012s (Solving: 0.00s 1st Model: 0.00s Unsat: 0.00s)\n",
      "CPU Time     : 0.003s\n"
     ]
    }
   ],
   "source": [
    "%%clingo 0\n",
    "\n",
    "% given\n",
    "at(cell(0,0),0,e).\n",
    "at(cell(1,0),1,e).\n",
    "%at(cell(1,1),2,n).\n",
    "at(cell(1,1),2,n).\n",
    "at(cell(1,1),3,n).\n",
    "at(cell(2,1),4,e).\n",
    "\n",
    "\n",
    "\n",
    "% MOVEMENTb\n",
    "movement(T0,M) :- at(cell(X0,Y0), T0, _), at(cell(X1,Y1), T1, _), T1>T0, T1-T0=1, M=|(X1+Y1)-(X0+Y0)|.\n",
    "\n",
    "% ROTATION\n",
    "map(0,n). map(1,e). map(2,s). map(3,w).\n",
    "or(T,Mapping) :- at(_,T,Direction), map(Mapping,Direction).\n",
    "rotation(T0,R) :- or(T0,M0), or(T1,M1), T1>T0, T1-T0=1, R=M1-M0\\4.\n",
    "    \n",
    "% TRACK TYPE\n",
    "\n",
    "\n",
    "#show movement/2.\n",
    "#show rotation/2.\n",
    "#show stop_moving(T) : rotation(T,R), R = 0, movement(T,M), M = 0."
   ]
  },
  {
   "cell_type": "code",
   "execution_count": 183,
   "id": "bf27955f",
   "metadata": {},
   "outputs": [
    {
     "name": "stdout",
     "output_type": "stream",
     "text": [
      "clingo version 5.6.2\n",
      "Reading from test_env.lp ...\n",
      "Solving...\n",
      "Answer: 1\n",
      "move_forward(0) move_forward(3) move_left(1) stop_moving(2)\n",
      "SATISFIABLE\n",
      "\n",
      "Models       : 1\n",
      "Calls        : 1\n",
      "Time         : 0.012s (Solving: 0.00s 1st Model: 0.00s Unsat: 0.00s)\n",
      "CPU Time     : 0.004s\n"
     ]
    }
   ],
   "source": [
    "%%clingo 0 test_env.lp -\n",
    "\n",
    "% path             Expected results:\n",
    "at(cell(0,0),0,e). %MOVE_FORWARD\n",
    "at(cell(1,0),1,e). %MOVE_LEFT\n",
    "at(cell(1,1),2,n). %STOP_MOVING\n",
    "at(cell(1,1),3,n). %MOVE_FORWARD\n",
    "at(cell(2,1),4,e).\n",
    "\n",
    "% ROTATION\n",
    "map(0,n). map(1,e). map(2,s). map(3,w).\n",
    "orient(T,Map) :- at(_,T,Dir), map(Map,Dir).\n",
    "rotation(T0,R) :- orient(T0,M0), orient(T1,M1), T1>T0, T1-T0=1, R=M1-M0\\4.\n",
    "    \n",
    "% TRACK TYPE\n",
    "type(T,switch) :- at(cell(X,Y),T,_), cell((X,Y),ID), ID = (37408;17411;32872;3089;49186;1097;34864;5633;38433;50211;33897;35889;38505;52275;20994;16458;2136;6672).\n",
    "type(T,deadend) :- at(cell(X,Y),T,_), cell((X,Y),ID), ID = (8192;4;128;256).\n",
    "type(T,nonswitch) :- at(cell(X,Y),T,_), not type(T,switch), not type(T,deadend).\n",
    "    \n",
    "% MOVEMENT\n",
    "movement(T0,M) :- at(cell(X0,Y0), T0, _), at(cell(X1,Y1), T1, _), T1>T0, T1-T0=1, M=|(X1+Y1)-(X0+Y0)|.\n",
    "   \n",
    "\n",
    "#show.\n",
    "#show stop_moving(T0) : at(C,T0,D), at(C,T1,D), T1-T0=1.\n",
    "#show move_left(T) : rotation(T,-1), type(T,switch).\n",
    "#show move_right(T): rotation(T,1), type(T,switch).\n",
    "#show move_forward(T): movement(T,1), not type(T,switch).\n",
    "%#show move_forward(T): movement(T,1), rotation(T,0).\n",
    "%#show move_forward(T): rotation(T,R), |R|=1, type(T,nonswitch).\n",
    "#show move_forward(T): rotation(T,R), |R|=2, type(T,deadend)."
   ]
  },
  {
   "cell_type": "code",
   "execution_count": 110,
   "id": "ad91dd08",
   "metadata": {
    "scrolled": true
   },
   "outputs": [
    {
     "name": "stdout",
     "output_type": "stream",
     "text": [
      "clingo version 5.6.2\n",
      "Reading from stdin\n",
      "Solving...\n",
      "Answer: 1\n",
      "letter(a) letter(b) letter(c)\n",
      "SATISFIABLE\n",
      "\n",
      "Models       : 1\n",
      "Calls        : 1\n",
      "Time         : 0.008s (Solving: 0.00s 1st Model: 0.00s Unsat: 0.00s)\n",
      "CPU Time     : 0.001s\n"
     ]
    }
   ],
   "source": [
    "%%clingo 0\n",
    "\n",
    "letter(a;b;c)."
   ]
  },
  {
   "cell_type": "code",
   "execution_count": null,
   "id": "429f940a",
   "metadata": {},
   "outputs": [],
   "source": []
  },
  {
   "cell_type": "code",
   "execution_count": 145,
   "id": "735a1396",
   "metadata": {},
   "outputs": [
    {
     "name": "stdout",
     "output_type": "stream",
     "text": [
      "clingo version 5.6.2\n",
      "Reading from types.lp\n",
      "Solving...\n",
      "Answer: 1\n",
      "move(f) move(l) move(r) move(wait) dir(e) dir(w) dir(n) dir(s) swap(n,s) swap(s,n) swap(e,w) swap(w,e) type(32800,(n,f)) type(32800,(s,f)) type(1025,(w,f)) type(1025,(e,f)) type(4608,(s,l)) type(4608,(w,r)) type(16386,(e,l)) type(16386,(s,r)) type(72,(n,l)) type(72,(e,r)) type(2064,(w,l)) type(2064,(n,r)) type(37408,(s,l)) type(37408,(w,r)) type(37408,(s,f)) type(37408,(n,f)) type(17411,(e,l)) type(17411,(s,r)) type(17411,(e,f)) type(17411,(w,f)) type(32872,(n,l)) type(32872,(e,r)) type(32872,(n,f)) type(32872,(s,f)) type(3089,(w,l)) type(3089,(n,r)) type(3089,(w,f)) type(3089,(e,f)) type(49186,(s,r)) type(49186,(e,l)) type(49186,(s,f)) type(49186,(n,f)) type(1097,(e,r)) type(1097,(n,l)) type(1097,(e,f)) type(1097,(w,f)) type(34864,(n,r)) type(34864,(w,l)) type(34864,(n,f)) type(34864,(s,f)) type(5633,(w,r)) type(5633,(s,l)) type(5633,(w,f)) type(5633,(e,f)) type(33825,(n,f)) type(33825,(s,f)) type(33825,(e,f)) type(33825,(w,f)) type((4,0),(n,f)) type((4,0),(s,f)) type((4,0),(e,f)) type((4,0),(w,f)) type((4,0),(s,l)) type((4,0),(w,r)) type((4,90),(n,f)) type((4,90),(s,f)) type((4,90),(e,f)) type((4,90),(w,f)) type((4,90),(e,l)) type((4,90),(s,r)) type((4,180),(n,f)) type((4,180),(s,f)) type((4,180),(e,f)) type((4,180),(w,f)) type((4,180),(n,l)) type((4,180),(e,r)) type((4,270),(n,f)) type((4,270),(s,f)) type((4,270),(e,f)) type((4,270),(w,f)) type((4,270),(w,l)) type((4,270),(n,r)) type((5,0),(n,f)) type((5,0),(s,f)) type((5,0),(e,f)) type((5,0),(w,f)) type((5,0),(s,l)) type((5,0),(w,r)) type((5,0),(n,l)) type((5,0),(e,r)) type((5,90),(n,f)) type((5,90),(s,f)) type((5,90),(e,f)) type((5,90),(w,f)) type((5,90),(e,l)) type((5,90),(s,r)) type((5,90),(w,l)) type((5,90),(n,r)) type((6,0),(s,l)) type((6,0),(w,r)) type((6,0),(e,l)) type((6,0),(s,r)) type((6,90),(e,l)) type((6,90),(s,r)) type((6,90),(n,l)) type((6,90),(e,r)) type((6,180),(n,l)) type((6,180),(e,r)) type((6,180),(w,l)) type((6,180),(n,r)) type((6,270),(w,l)) type((6,270),(n,r)) type((6,270),(s,l)) type((6,270),(w,r)) type(8192,(s,f)) type(4,(e,f)) type(128,(n,f)) type(256,(w,f)) offset((n,f),(0,-1),s) offset((w,r),(0,-1),s) offset((e,l),(0,-1),s) offset((e,f),(-1,0),w) offset((n,r),(-1,0),w) offset((s,l),(-1,0),w) offset((s,f),(0,1),n) offset((w,l),(0,1),n) offset((e,r),(0,1),n) offset((w,f),(1,0),e) offset((n,l),(1,0),e) offset((s,r),(1,0),e)\n",
      "SATISFIABLE\n",
      "\n",
      "Models       : 1\n",
      "Calls        : 1\n",
      "Time         : 0.007s (Solving: 0.00s 1st Model: 0.00s Unsat: 0.00s)\n",
      "CPU Time     : 0.003s\n"
     ]
    }
   ],
   "source": [
    "%%clingo 0 types.lp\n",
    "\n",
    "a."
   ]
  }
 ],
 "metadata": {
  "kernelspec": {
   "display_name": "Python 3",
   "language": "python",
   "name": "python3"
  },
  "language_info": {
   "codemirror_mode": {
    "name": "ipython",
    "version": 3
   },
   "file_extension": ".py",
   "mimetype": "text/x-python",
   "name": "python",
   "nbconvert_exporter": "python",
   "pygments_lexer": "ipython3",
   "version": "3.8.8"
  }
 },
 "nbformat": 4,
 "nbformat_minor": 5
}
