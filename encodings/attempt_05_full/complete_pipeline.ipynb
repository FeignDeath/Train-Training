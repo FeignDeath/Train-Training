{
 "cells": [
  {
   "cell_type": "markdown",
   "id": "ad5f8e55",
   "metadata": {},
   "source": [
    "# Complete pipeline\n",
    "\n",
    "1. We create a simple environment in Flatland that has only a single agent.  The agent is given a starting position and a goal.\n",
    "2. This information is fed to a Clingo encoding, which produces a path for the agent from the start to the goal.\n",
    "3. We return this path information to Flatland in a manner which can be interpreted and visualized."
   ]
  },
  {
   "cell_type": "markdown",
   "id": "882b767b",
   "metadata": {},
   "source": [
    "## Flatland environment generation\n",
    "\n",
    "This is Flatland code, not my own."
   ]
  },
  {
   "cell_type": "code",
   "execution_count": 14,
   "id": "e243704c",
   "metadata": {},
   "outputs": [],
   "source": [
    "# import packages\n",
    "import numpy as np\n",
    "\n",
    "from flatland.envs.rail_env import RailEnv, RailEnvActions\n",
    "from flatland.envs.rail_generators import rail_from_manual_specifications_generator\n",
    "from flatland.envs.rail_generators import rail_from_grid_transition_map\n",
    "from flatland.envs.rail_generators import sparse_rail_generator\n",
    "from flatland.envs.observations import TreeObsForRailEnv\n",
    "\n",
    "from flatland.core.grid.rail_env_grid import RailEnvTransitions\n",
    "from flatland.core.transition_map import GridTransitionMap"
   ]
  },
  {
   "cell_type": "code",
   "execution_count": 66,
   "id": "88f904d6",
   "metadata": {},
   "outputs": [],
   "source": [
    "def make_environment():\n",
    "    \"\"\"create an environment by specifying the track type of each cell\"\"\"\n",
    "    transitions = RailEnvTransitions()\n",
    "    cells = transitions.transition_list\n",
    "    \n",
    "    # rail map: track types by ID values\n",
    "    rail_map = np.array(\n",
    "        [[0] + [16386] + [256]]\n",
    "        + [[4] + [3089] +[256]]\n",
    "        , dtype=np.uint16)\n",
    "\n",
    "    # rail: transitions based on track types\n",
    "    rail = GridTransitionMap(width=rail_map.shape[1], height=rail_map.shape[0], transitions=transitions)\n",
    "    \n",
    "    # optionals\n",
    "    rail.grid = rail_map\n",
    "    city_positions = [(0,1), (3,0)]\n",
    "    train_stations = [[((0,1),0)], [((3,0),0)],]\n",
    "    city_orientations = [0,0]\n",
    "    agents_hints = {\n",
    "        'city_positions': city_positions,\n",
    "        'train_stations': train_stations,\n",
    "        'city_orientations': city_orientations\n",
    "    }\n",
    "    optionals = {'agents_hints': agents_hints}\n",
    "    return rail, rail_map, optionals"
   ]
  },
  {
   "cell_type": "code",
   "execution_count": 67,
   "id": "0ca3a95e",
   "metadata": {},
   "outputs": [],
   "source": [
    "rail, rail_map, optionals = make_environment()\n",
    "rail_gen = rail_from_grid_transition_map(rail_map=rail, optionals=optionals)\n",
    "hand_crafted_env = RailEnv(width=3, height=2, rail_generator=rail_gen, number_of_agents=1, obs_builder_object=TreeObsForRailEnv(max_depth=0))\n"
   ]
  },
  {
   "cell_type": "markdown",
   "id": "ac1461e8",
   "metadata": {},
   "source": [
    "### Example output of Flatland's `rail_map`"
   ]
  },
  {
   "cell_type": "code",
   "execution_count": 125,
   "id": "4cc07a6b",
   "metadata": {
    "scrolled": true
   },
   "outputs": [
    {
     "data": {
      "text/plain": [
       "array([[    0, 16386,   256],\n",
       "       [    4,  3089,   256]], dtype=uint16)"
      ]
     },
     "execution_count": 125,
     "metadata": {},
     "output_type": "execute_result"
    }
   ],
   "source": [
    "rail_map\n"
   ]
  },
  {
   "cell_type": "markdown",
   "id": "4e253fc9",
   "metadata": {},
   "source": [
    "## Clingo pathfinding encoding"
   ]
  },
  {
   "cell_type": "code",
   "execution_count": 58,
   "id": "5bcb2f64",
   "metadata": {},
   "outputs": [],
   "source": [
    "from pathlib import Path"
   ]
  },
  {
   "cell_type": "markdown",
   "id": "5ba3072e",
   "metadata": {},
   "source": [
    "### `clingo_map` class"
   ]
  },
  {
   "cell_type": "code",
   "execution_count": 137,
   "id": "76f7546d",
   "metadata": {},
   "outputs": [],
   "source": [
    "class clingo_map():\n",
    "    \"\"\"an alternative representation of a Flatland map that clingo can process\"\"\"\n",
    "    \n",
    "    def __init__(self, rail_map):\n",
    "        self.clingo_str = \"\"\n",
    "        self.mapping = {}\n",
    "        \n",
    "        row_num = len(rail_map) - 1\n",
    "        for row in rail_map:\n",
    "            for col,cval in enumerate(row):\n",
    "                self.clingo_str += \"cell(({},{}), {}). \".format(col,row_num,cval)\n",
    "                self.mapping[(col,row_num)] = cval\n",
    "            row_num -= 1\n"
   ]
  },
  {
   "cell_type": "code",
   "execution_count": 143,
   "id": "bccd2214",
   "metadata": {},
   "outputs": [
    {
     "name": "stdout",
     "output_type": "stream",
     "text": [
      "cell((0,1), 0). cell((1,1), 16386). cell((2,1), 256). cell((0,0), 4). cell((1,0), 3089). cell((2,0), 256). \n"
     ]
    }
   ],
   "source": [
    "env = clingo_map(rail_map)\n",
    "print(env.clingo_str) # take a look\n"
   ]
  },
  {
   "cell_type": "code",
   "execution_count": 139,
   "id": "5dd894c3",
   "metadata": {},
   "outputs": [],
   "source": [
    "import clingo\n",
    "\n",
    "def on_model(m):\n",
    "    \"\"\"print results upon solving\"\"\"\n",
    "    print(m)"
   ]
  },
  {
   "cell_type": "code",
   "execution_count": 140,
   "id": "d976335c",
   "metadata": {},
   "outputs": [
    {
     "name": "stdout",
     "output_type": "stream",
     "text": [
      "cell((0,1),0) cell((1,1),16386) cell((2,1),256) cell((0,0),4) cell((1,0),3089) cell((2,0),256)\n"
     ]
    },
    {
     "data": {
      "text/plain": [
       "SolveResult(1)"
      ]
     },
     "execution_count": 140,
     "metadata": {},
     "output_type": "execute_result"
    }
   ],
   "source": [
    "# clingo API\n",
    "ctl = clingo.Control()\n",
    "\n",
    "# load the map into clingo\n",
    "ctl.add(\"base\", [], env.clingo_str)\n",
    "\n",
    "# load the types.lp reference file\n",
    "types = Path('../attempt_05_full/types.lp').read_text()\n",
    "#ctl.add(\"base\", [], types)\n",
    "\n",
    "# load the encoding\n",
    "#encoding = Path('../attempt_05_full/encoding.lp').read_text() \n",
    "#ctl.add(\"base\", [], encoding)\n",
    "\n",
    "# ground & solve\n",
    "ctl.ground([(\"base\", [])])\n",
    "ctl.solve(on_model=on_model)"
   ]
  },
  {
   "cell_type": "markdown",
   "id": "1e7359c7",
   "metadata": {},
   "source": [
    "**Expected result**\n",
    "\n",
    "`at(cell(0,0),0,e) at(cell(1,0),1,e) at(cell(1,1),2,n) at(cell(2,1),3,e)`"
   ]
  },
  {
   "cell_type": "code",
   "execution_count": 141,
   "id": "c49520d5",
   "metadata": {},
   "outputs": [
    {
     "data": {
      "text/plain": [
       "{(0, 1): 0, (1, 1): 16386, (2, 1): 256, (0, 0): 4, (1, 0): 3089, (2, 0): 256}"
      ]
     },
     "execution_count": 141,
     "metadata": {},
     "output_type": "execute_result"
    }
   ],
   "source": [
    "env.mapping"
   ]
  },
  {
   "cell_type": "markdown",
   "id": "068fea2d",
   "metadata": {},
   "source": [
    "### Translate solution → actions"
   ]
  },
  {
   "cell_type": "code",
   "execution_count": 150,
   "id": "d6133c5c",
   "metadata": {},
   "outputs": [],
   "source": [
    "# translate clingo solution into moves\n",
    "switch_ids = [37408,17411,32872,3089,49186,1097,34864,5633,38433,50211,33897,35889,38505,52275,20994,16458,2136,6672]\n",
    "\n",
    "def is_switch(loc, env): #env.mapping\n",
    "    \"\"\"\n",
    "    given a location and its environment, determine whether the cell has a switch\n",
    "    \"\"\"\n",
    "    return env[loc] in switch_ids\n",
    "\n",
    "def next_move(dirs, locs, env):\n",
    "    \"\"\"\n",
    "    given:\n",
    "        * a current cardinal direction and the following one, \n",
    "        * a current location and the following one\n",
    "        * an environment\n",
    "    return what move the train should make\n",
    "    \"\"\"\n",
    "    if locs[0] == locs[1]:\n",
    "        return \"STOP_MOVING\"\n",
    "    elif dirs[0] == dirs[1]:\n",
    "        return \"MOVE_FORWARD\"\n",
    "    #elif \n"
   ]
  },
  {
   "cell_type": "code",
   "execution_count": 148,
   "id": "8b83288e",
   "metadata": {},
   "outputs": [
    {
     "data": {
      "text/plain": [
       "True"
      ]
     },
     "execution_count": 148,
     "metadata": {},
     "output_type": "execute_result"
    }
   ],
   "source": [
    "is_switch((1,0),env.mapping)"
   ]
  },
  {
   "cell_type": "markdown",
   "id": "5483a7b3",
   "metadata": {},
   "source": [
    "## Flatland visualization"
   ]
  },
  {
   "cell_type": "code",
   "execution_count": 3,
   "id": "8722bf88",
   "metadata": {},
   "outputs": [],
   "source": [
    "# code here"
   ]
  },
  {
   "cell_type": "code",
   "execution_count": 10,
   "id": "7050de6d",
   "metadata": {},
   "outputs": [
    {
     "name": "stdout",
     "output_type": "stream",
     "text": [
      "clingo version 5.6.2\n",
      "Reading from stdin\n",
      "Solving...\n",
      "Answer: 1\n",
      "\n",
      "Answer: 2\n",
      "q(2)\n",
      "Answer: 3\n",
      "q(3)\n",
      "Answer: 4\n",
      "q(2) q(3)\n",
      "Answer: 5\n",
      "q(1) a\n",
      "Answer: 6\n",
      "q(1) q(3) a\n",
      "Answer: 7\n",
      "q(1) q(2) a\n",
      "Answer: 8\n",
      "q(1) q(2) q(3) a\n",
      "SATISFIABLE\n",
      "\n",
      "Models       : 8\n",
      "Calls        : 1\n",
      "Time         : 0.008s (Solving: 0.00s 1st Model: 0.00s Unsat: 0.00s)\n",
      "CPU Time     : 0.002s\n"
     ]
    }
   ],
   "source": [
    "%%clingo 0\n",
    "\n",
    "p(1). p(2). p(3).\n",
    "{ holds(q(X)) : p(X) }.\n",
    "holds(a) :- holds(q(1)).\n",
    "#show.\n",
    "#show X : holds(X)."
   ]
  },
  {
   "cell_type": "code",
   "execution_count": null,
   "id": "66bc5a55",
   "metadata": {},
   "outputs": [],
   "source": []
  }
 ],
 "metadata": {
  "kernelspec": {
   "display_name": "Python 3",
   "language": "python",
   "name": "python3"
  },
  "language_info": {
   "codemirror_mode": {
    "name": "ipython",
    "version": 3
   },
   "file_extension": ".py",
   "mimetype": "text/x-python",
   "name": "python",
   "nbconvert_exporter": "python",
   "pygments_lexer": "ipython3",
   "version": "3.8.8"
  }
 },
 "nbformat": 4,
 "nbformat_minor": 5
}
