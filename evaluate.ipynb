{
 "cells": [
  {
   "cell_type": "code",
   "execution_count": 1,
   "metadata": {},
   "outputs": [
    {
     "data": {
      "text/html": [
       "<div>\n",
       "<style scoped>\n",
       "    .dataframe tbody tr th:only-of-type {\n",
       "        vertical-align: middle;\n",
       "    }\n",
       "\n",
       "    .dataframe tbody tr th {\n",
       "        vertical-align: top;\n",
       "    }\n",
       "\n",
       "    .dataframe thead th {\n",
       "        text-align: right;\n",
       "    }\n",
       "</style>\n",
       "<table border=\"1\" class=\"dataframe\">\n",
       "  <thead>\n",
       "    <tr style=\"text-align: right;\">\n",
       "      <th></th>\n",
       "      <th>Instance</th>\n",
       "      <th>Reason</th>\n",
       "    </tr>\n",
       "  </thead>\n",
       "  <tbody>\n",
       "    <tr>\n",
       "      <th>0</th>\n",
       "      <td>envs/pkl/env_001--10_3.pkl</td>\n",
       "      <td>Unsatisfieable</td>\n",
       "    </tr>\n",
       "    <tr>\n",
       "      <th>2</th>\n",
       "      <td>envs/pkl/env_003--10_3.pkl</td>\n",
       "      <td>Unsatisfieable</td>\n",
       "    </tr>\n",
       "    <tr>\n",
       "      <th>3</th>\n",
       "      <td>envs/pkl/env_004--10_3.pkl</td>\n",
       "      <td>Unsatisfieable</td>\n",
       "    </tr>\n",
       "    <tr>\n",
       "      <th>4</th>\n",
       "      <td>envs/pkl/env_005--10_3.pkl</td>\n",
       "      <td>Mismatching Actions</td>\n",
       "    </tr>\n",
       "    <tr>\n",
       "      <th>6</th>\n",
       "      <td>envs/pkl/env_007--10_3.pkl</td>\n",
       "      <td>Mismatching Actions</td>\n",
       "    </tr>\n",
       "  </tbody>\n",
       "</table>\n",
       "</div>"
      ],
      "text/plain": [
       "                     Instance               Reason\n",
       "0  envs/pkl/env_001--10_3.pkl       Unsatisfieable\n",
       "2  envs/pkl/env_003--10_3.pkl       Unsatisfieable\n",
       "3  envs/pkl/env_004--10_3.pkl       Unsatisfieable\n",
       "4  envs/pkl/env_005--10_3.pkl  Mismatching Actions\n",
       "6  envs/pkl/env_007--10_3.pkl  Mismatching Actions"
      ]
     },
     "execution_count": 1,
     "metadata": {},
     "output_type": "execute_result"
    }
   ],
   "source": [
    "import pandas as pd\n",
    "\n",
    "df = pd.read_csv(\"output/log.csv\")\n",
    "\n",
    "filtered = df[df[\"Success\"]==False]\n",
    "\n",
    "filtered[[\"Instance\",\"Reason\"]].head()"
   ]
  }
 ],
 "metadata": {
  "kernelspec": {
   "display_name": "evaluation",
   "language": "python",
   "name": "python3"
  },
  "language_info": {
   "codemirror_mode": {
    "name": "ipython",
    "version": 3
   },
   "file_extension": ".py",
   "mimetype": "text/x-python",
   "name": "python",
   "nbconvert_exporter": "python",
   "pygments_lexer": "ipython3",
   "version": "3.12.8"
  }
 },
 "nbformat": 4,
 "nbformat_minor": 2
}
