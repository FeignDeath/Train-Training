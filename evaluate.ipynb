{
 "cells": [
  {
   "cell_type": "code",
   "execution_count": null,
   "metadata": {},
   "outputs": [],
   "source": [
    "import pandas as pd\n",
    "\n",
    "df = pd.read_csv(\"output/log.csv\")\n",
    "\n",
    "filtered = df[df[\"Success\"]==False]\n",
    "\n",
    "filtered[[\"Instance\",\"Primary\",\"Reason\"]]"
   ]
  },
  {
   "cell_type": "code",
   "execution_count": null,
   "metadata": {},
   "outputs": [],
   "source": [
    "# # Delete all rows where Success is False from the original DataFrame\n",
    "# df_cleaned = df[df[\"Success\"] == True]\n",
    "\n",
    "# # Optionally, you can save the cleaned DataFrame back to a CSV file\n",
    "# df_cleaned.to_csv(\"output/log.csv\", index=False)"
   ]
  }
 ],
 "metadata": {
  "kernelspec": {
   "display_name": "evaluation",
   "language": "python",
   "name": "python3"
  },
  "language_info": {
   "codemirror_mode": {
    "name": "ipython",
    "version": 3
   },
   "file_extension": ".py",
   "mimetype": "text/x-python",
   "name": "python",
   "nbconvert_exporter": "python",
   "pygments_lexer": "ipython3",
   "version": "3.12.8"
  }
 },
 "nbformat": 4,
 "nbformat_minor": 2
}
