{
 "cells": [
  {
   "cell_type": "code",
   "execution_count": null,
   "metadata": {},
   "outputs": [],
   "source": [
    "import ast\n",
    "import matplotlib.pyplot as plt\n",
    "import pandas as pd\n",
    "df = pd.read_csv(\"output/log.csv\")\n",
    "df"
   ]
  },
  {
   "cell_type": "code",
   "execution_count": null,
   "metadata": {},
   "outputs": [],
   "source": [
    "filtered = df[df[\"Success\"]==False]\n",
    "filtered[[\"Instance\",\"Primary\",\"Reason\"]]"
   ]
  },
  {
   "cell_type": "code",
   "execution_count": null,
   "metadata": {},
   "outputs": [],
   "source": [
    "# ## REMOVE FAILED ENTRIES ##\n",
    "# df_cleaned = df[df[\"Success\"] == True]\n",
    "# df_cleaned.to_csv(\"output/log.csv\", index=False)"
   ]
  },
  {
   "cell_type": "code",
   "execution_count": null,
   "metadata": {},
   "outputs": [],
   "source": [
    "# ## DELETES ALL DUPLICATE ENTRIES\n",
    "# df_cleaned = df.drop_duplicates(subset=['Primary', 'Secondary', 'Instance'], keep='first')\n",
    "# df_cleaned.to_csv(\"output/log.csv\", index=False)"
   ]
  },
  {
   "cell_type": "code",
   "execution_count": null,
   "metadata": {},
   "outputs": [],
   "source": [
    "# ## DELETES SPECIFIC APPROACHES ##\n",
    "# selection = df[df[\"Secondary\"]==\"['asp/graph_reschedule_naive/0_input.lp', 'asp/graph_reschedule_naive/1_path.lp', 'asp/graph_reschedule_naive/2_output.lp', 'asp/graph_reschedule_naive/3_malfunction.lp']\"]\n",
    "# red = df.drop(selection.index)\n",
    "# red.to_csv(\"output/log.csv\", index=False)"
   ]
  },
  {
   "cell_type": "code",
   "execution_count": null,
   "metadata": {},
   "outputs": [],
   "source": [
    "filtered = df[(df[\"Success\"]==True) & (df[\"Instance\"]==\"envs/testing_instances/medium/medium_4_1.pkl\")]\n",
    "unique_secondaries = filtered[\"Secondary\"].unique()\n",
    "plt.figure(figsize=(10, 6))\n",
    "\n",
    "dict = {\"['asp/graph_reschedule/1_path.lp', 'asp/graph_reschedule/2_output.lp', 'asp/graph_reschedule/3_malfunction.lp']\" : \"Reschedule\",\n",
    "        \"['asp/incremental/secondary.lp']\": \"Incremental\",\n",
    "        \"['asp/graph_reschedule_naive/0_input.lp', 'asp/graph_reschedule_naive/1_path.lp', 'asp/graph_reschedule_naive/2_output.lp', 'asp/graph_reschedule_naive/3_malfunction.lp']\": \"Reschedule Naive\"}\n",
    "\n",
    "for secondary in unique_secondaries:\n",
    "    secondary_filtered = filtered[filtered[\"Secondary\"] == secondary]\n",
    "    \n",
    "    x_values = []\n",
    "    y_values = []\n",
    "\n",
    "    one_row = secondary_filtered.iloc[0]\n",
    "    entry = one_row[\"Secondary Stats\"]\n",
    "    stats_list = ast.literal_eval(entry)\n",
    "        \n",
    "    for i, elem in enumerate(stats_list):\n",
    "        total_value = elem[\"summary\"][\"times\"][\"total\"]\n",
    "        x_values.append(i)\n",
    "        y_values.append(total_value)\n",
    "    \n",
    "    plt.plot(x_values, y_values, marker='o', label=f'{dict[secondary]}')\n",
    "    print(secondary)\n",
    "\n",
    "plt.title(\"Malfunction handling time.\")\n",
    "plt.xlabel('Rerun')\n",
    "plt.ylabel('Time Taken')\n",
    "plt.legend()\n",
    "plt.grid()\n",
    "plt.show()"
   ]
  }
 ],
 "metadata": {
  "kernelspec": {
   "display_name": "evaluation",
   "language": "python",
   "name": "python3"
  },
  "language_info": {
   "codemirror_mode": {
    "name": "ipython",
    "version": 3
   },
   "file_extension": ".py",
   "mimetype": "text/x-python",
   "name": "python",
   "nbconvert_exporter": "python",
   "pygments_lexer": "ipython3",
   "version": "3.12.8"
  }
 },
 "nbformat": 4,
 "nbformat_minor": 4
}
