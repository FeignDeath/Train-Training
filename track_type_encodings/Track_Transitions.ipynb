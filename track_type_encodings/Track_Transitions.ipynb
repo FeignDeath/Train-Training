{
 "cells": [
  {
   "cell_type": "markdown",
   "id": "0e0106fe",
   "metadata": {},
   "source": [
    "# Track Transitions\n",
    "\n"
   ]
  },
  {
   "cell_type": "markdown",
   "id": "1e1bc486",
   "metadata": {},
   "source": [
    "## Track Type #0"
   ]
  },
  {
   "cell_type": "code",
   "execution_count": 91,
   "id": "d8ea5753",
   "metadata": {},
   "outputs": [
    {
     "name": "stdout",
     "output_type": "stream",
     "text": [
      "clingo version 5.6.2\n",
      "Reading from stdin\n",
      "Solving...\n",
      "Answer: 1\n",
      "path(0,0,0,0,0,0)\n",
      "SATISFIABLE\n",
      "\n",
      "Models       : 1\n",
      "Calls        : 1\n",
      "Time         : 0.000s (Solving: 0.00s 1st Model: 0.00s Unsat: 0.00s)\n",
      "CPU Time     : 0.000s\n"
     ]
    }
   ],
   "source": [
    "%%clingo 0\n",
    "track(0,0,0,0,1).\n",
    "path(0,0,0,0,0,0) :- track(X,Y,0,D,F).\n",
    "#show path/6."
   ]
  },
  {
   "cell_type": "markdown",
   "id": "a41943fe",
   "metadata": {},
   "source": [
    "## Track Type #1"
   ]
  },
  {
   "cell_type": "markdown",
   "id": "9ed927fd",
   "metadata": {},
   "source": [
    "### Type A: Straight"
   ]
  },
  {
   "cell_type": "code",
   "execution_count": 92,
   "id": "abb002cf",
   "metadata": {},
   "outputs": [
    {
     "name": "stdout",
     "output_type": "stream",
     "text": [
      "clingo version 5.6.2\n",
      "Reading from stdin\n",
      "Solving...\n",
      "Answer: 1\n",
      "path(0,-1,0,0,0,1) path(0,1,0,0,0,-1)\n",
      "SATISFIABLE\n",
      "\n",
      "Models       : 1\n",
      "Calls        : 1\n",
      "Time         : 0.000s (Solving: 0.00s 1st Model: 0.00s Unsat: 0.00s)\n",
      "CPU Time     : 0.000s\n"
     ]
    }
   ],
   "source": [
    "%%clingo 0\n",
    "track(0,0,1,0,1).\n",
    "    % expected results - track(0,0,1,0).\n",
    "    % path( (0,-1) (0, 0) (0, 1) )\n",
    "    % path( (0, 1) (0, 0) (0,-1) )\n",
    "\n",
    "path(X0,Y0, X,Y, -1*X0,-1*Y0) :- track(X,Y,1,D,F), X0 = X+(|D-1|-1), Y0 = -1*(Y+(|D-2|-1)). %straight path\n",
    "path(X0,Y0, X1,Y1, X2,Y2) :- path(X2,Y2, X1,Y1, X0,Y0).\n",
    "    \n",
    "#show path/6."
   ]
  },
  {
   "cell_type": "markdown",
   "id": "408fa897",
   "metadata": {},
   "source": [
    "### Type B: Curved"
   ]
  },
  {
   "cell_type": "code",
   "execution_count": 93,
   "id": "dc27627e",
   "metadata": {
    "scrolled": true
   },
   "outputs": [
    {
     "name": "stdout",
     "output_type": "stream",
     "text": [
      "clingo version 5.6.2\n",
      "Reading from stdin\n",
      "Solving...\n",
      "Answer: 1\n",
      "path(0,-1,0,0,-1,0) path(-1,0,0,0,0,-1)\n",
      "SATISFIABLE\n",
      "\n",
      "Models       : 1\n",
      "Calls        : 1\n",
      "Time         : 0.000s (Solving: 0.00s 1st Model: 0.00s Unsat: 0.00s)\n",
      "CPU Time     : 0.000s\n"
     ]
    }
   ],
   "source": [
    "%%clingo 0\n",
    "track(0,0,11,0,1).\n",
    "    % expected results - track(0,0,11,0).\n",
    "    % path( (0,-1) (0, 0) (-1,0) )\n",
    "    % path( (-1,0) (0, 0) (0,-1) )\n",
    "\n",
    "path(X0,Y0, X,Y,    Y0*F,-1*X0*F) :- track(X,Y,11,D,F), X0 = X+(|D-1|-1), Y0 = -1*(Y+(|D-2|-1)). %curved path\n",
    "path(X0,Y0, X1,Y1, X2,Y2)         :- path(X2,Y2, X1,Y1, X0,Y0).\n",
    "    \n",
    "#show path/6."
   ]
  },
  {
   "cell_type": "markdown",
   "id": "7fb70f83",
   "metadata": {},
   "source": [
    "## Track Type #2\n",
    "Simple switch"
   ]
  },
  {
   "cell_type": "code",
   "execution_count": 96,
   "id": "ca92026f",
   "metadata": {},
   "outputs": [
    {
     "name": "stdout",
     "output_type": "stream",
     "text": [
      "clingo version 5.6.2\n",
      "Reading from stdin\n",
      "Solving...\n",
      "Answer: 1\n",
      "path(0,-1,0,0,0,1) path(0,-1,0,0,-1,0) path(-1,0,0,0,0,-1) path(0,1,0,0,0,-1)\n",
      "SATISFIABLE\n",
      "\n",
      "Models       : 1\n",
      "Calls        : 1\n",
      "Time         : 0.000s (Solving: 0.00s 1st Model: 0.00s Unsat: 0.00s)\n",
      "CPU Time     : 0.000s\n"
     ]
    }
   ],
   "source": [
    "%%clingo 0\n",
    "track(0,0,2,0,1).\n",
    "    % expected results - track(0,0,2,0,0).\n",
    "    % path( (0,-1) (0, 0) (0, 1) )\n",
    "    % path( (0,-1) (0, 0) (-1,0) )\n",
    "    % path( (0, 1) (0, 0) (0,-1) )\n",
    "    % path( (-1,0) (0, 0) (0,-1) )\n",
    "    \n",
    "path(X0,Y0, X,Y, -1*X0,-1*Y0) :- track(X,Y,2,D,F), X0 = X+(|D-1|-1), Y0 = -1*(Y+(|D-2|-1)). %straight path\n",
    "path(X0,Y0, X,Y,    Y0*F,-1*X0*F) :- track(X,Y,2,D,F), X0 = X+(|D-1|-1), Y0 = -1*(Y+(|D-2|-1)). %curved path\n",
    "path(X0,Y0, X1,Y1, X2,Y2) :- path(X2,Y2, X1,Y1, X0,Y0).\n",
    "    \n",
    "#show path/6."
   ]
  },
  {
   "cell_type": "markdown",
   "id": "154ef2cd",
   "metadata": {},
   "source": [
    "## Track Type #3\n",
    "Diamond crossing"
   ]
  },
  {
   "cell_type": "code",
   "execution_count": 97,
   "id": "f56ac85c",
   "metadata": {},
   "outputs": [
    {
     "name": "stdout",
     "output_type": "stream",
     "text": [
      "clingo version 5.6.2\n",
      "Reading from stdin\n",
      "Solving...\n",
      "Answer: 1\n",
      "path(0,1,0,0,0,-1) path(1,0,0,0,-1,0) path(-1,0,0,0,1,0) path(0,-1,0,0,0,1)\n",
      "SATISFIABLE\n",
      "\n",
      "Models       : 1\n",
      "Calls        : 1\n",
      "Time         : 0.000s (Solving: 0.00s 1st Model: 0.00s Unsat: 0.00s)\n",
      "CPU Time     : 0.000s\n"
     ]
    }
   ],
   "source": [
    "%%clingo 0\n",
    "track(0,0,3,2,1).\n",
    "    % expected results - track(0,0,2,0).\n",
    "    % path( (0,-1) (0, 0) (0, 1) )\n",
    "    % path( (0,-1) (0, 0) (-1,0) )\n",
    "    % path( (0, 1) (0, 0) (0,-1) )\n",
    "    % path( (-1,0) (0, 0) (0,-1) )\n",
    "    \n",
    "path(X0,Y0, X,Y, -1*X0,-1*Y0) :- track(X,Y,3,D,F), X0 = X+(|D-1|-1), Y0 = -1*(Y+(|D-2|-1)). %straight path\n",
    "path(X0,Y0, X,Y, -1*X0,-1*Y0) :- track(X,Y,3,D,F), Y0 = X+(|D-1|-1), X0 = -1*(Y+(|D-2|-1)). %straight path\n",
    "path(X0,Y0, X1,Y1, X2,Y2)     :- path(X2,Y2, X1,Y1, X0,Y0).\n",
    "    \n",
    "#show path/6."
   ]
  },
  {
   "cell_type": "code",
   "execution_count": null,
   "id": "f5b1b283",
   "metadata": {},
   "outputs": [],
   "source": []
  },
  {
   "cell_type": "code",
   "execution_count": null,
   "id": "24f98cf8",
   "metadata": {},
   "outputs": [],
   "source": []
  },
  {
   "cell_type": "markdown",
   "id": "50178d4d",
   "metadata": {},
   "source": [
    "## Track Type #6\n",
    "Symmetrical switch"
   ]
  },
  {
   "cell_type": "code",
   "execution_count": 98,
   "id": "8d89d00c",
   "metadata": {},
   "outputs": [
    {
     "name": "stdout",
     "output_type": "stream",
     "text": [
      "clingo version 5.6.2\n",
      "Reading from stdin\n",
      "Solving...\n",
      "Answer: 1\n",
      "path(0,-1,0,0,-1,0) path(0,-1,0,0,1,0) path(1,0,0,0,0,-1) path(-1,0,0,0,0,-1)\n",
      "SATISFIABLE\n",
      "\n",
      "Models       : 1\n",
      "Calls        : 1\n",
      "Time         : 0.001s (Solving: 0.00s 1st Model: 0.00s Unsat: 0.00s)\n",
      "CPU Time     : 0.001s\n"
     ]
    }
   ],
   "source": [
    "%%clingo 0\n",
    "track(0,0,2,0,1).\n",
    "    % expected results - track(0,0,2,0,0).\n",
    "    % path( (0,-1) (0, 0) (0, 1) )\n",
    "    % path( (0,-1) (0, 0) (-1,0) )\n",
    "    % path( (0, 1) (0, 0) (0,-1) )\n",
    "    % path( (-1,0) (0, 0) (0,-1) )\n",
    "    \n",
    "path(X0,Y0, X, Y,  Y0,    -1*X0   ) :- track(X,Y,2,D,F), X0 = X+(|D-1|-1), Y0 = -1*(Y+(|D-2|-1)). %curved path\n",
    "path(X0,Y0, X, Y,  Y0*-1, -1*X0*-1) :- track(X,Y,2,D,F), X0 = X+(|D-1|-1), Y0 = -1*(Y+(|D-2|-1)). %curved path\n",
    "path(X0,Y0, X1,Y1, X2,    Y2      ) :- path(X2,Y2, X1,Y1, X0,Y0).\n",
    "    \n",
    "#show path/6."
   ]
  },
  {
   "cell_type": "code",
   "execution_count": null,
   "id": "36948a56",
   "metadata": {},
   "outputs": [],
   "source": []
  }
 ],
 "metadata": {
  "kernelspec": {
   "display_name": "Python 3 (ipykernel)",
   "language": "python",
   "name": "python3"
  },
  "language_info": {
   "codemirror_mode": {
    "name": "ipython",
    "version": 3
   },
   "file_extension": ".py",
   "mimetype": "text/x-python",
   "name": "python",
   "nbconvert_exporter": "python",
   "pygments_lexer": "ipython3",
   "version": "3.9.12"
  }
 },
 "nbformat": 4,
 "nbformat_minor": 5
}
