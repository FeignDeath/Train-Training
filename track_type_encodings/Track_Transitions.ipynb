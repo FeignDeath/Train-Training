{
 "cells": [
  {
   "cell_type": "markdown",
   "id": "fb23a27d",
   "metadata": {},
   "source": [
    "# Track Transitions\n",
    "\n"
   ]
  },
  {
   "cell_type": "markdown",
   "id": "e4e75f17",
   "metadata": {},
   "source": [
    "## Track Type #0"
   ]
  },
  {
   "cell_type": "code",
   "execution_count": 62,
   "id": "2bc914b6",
   "metadata": {},
   "outputs": [
    {
     "name": "stdout",
     "output_type": "stream",
     "text": [
      "clingo version 5.6.2\n",
      "Reading from stdin\n",
      "Solving...\n",
      "Answer: 1\n",
      "path(0,0,0,0,0,0)\n",
      "SATISFIABLE\n",
      "\n",
      "Models       : 1\n",
      "Calls        : 1\n",
      "Time         : 0.006s (Solving: 0.00s 1st Model: 0.00s Unsat: 0.00s)\n",
      "CPU Time     : 0.001s\n"
     ]
    }
   ],
   "source": [
    "%%clingo 0\n",
    "track(0,0,0,0).\n",
    "path(0,0,0,0,0,0) :- track(X,Y,0,D).\n",
    "#show path/6."
   ]
  },
  {
   "cell_type": "markdown",
   "id": "81aa38b4",
   "metadata": {},
   "source": [
    "## Track Type #1"
   ]
  },
  {
   "cell_type": "code",
   "execution_count": null,
   "id": "1c4fb6e3",
   "metadata": {},
   "outputs": [],
   "source": []
  },
  {
   "cell_type": "markdown",
   "id": "9b321245",
   "metadata": {},
   "source": [
    "## Track Type #2"
   ]
  },
  {
   "cell_type": "code",
   "execution_count": 58,
   "id": "559c3e5d",
   "metadata": {},
   "outputs": [
    {
     "name": "stdout",
     "output_type": "stream",
     "text": [
      "clingo version 5.6.2\n",
      "Reading from stdin\n",
      "Solving...\n",
      "Answer: 1\n",
      "path(0,-1,0,0,0,1) path(0,-1,0,0,-1,0) path(-1,0,0,0,0,-1) path(0,1,0,0,0,-1)\n",
      "SATISFIABLE\n",
      "\n",
      "Models       : 1\n",
      "Calls        : 1\n",
      "Time         : 0.000s (Solving: 0.00s 1st Model: 0.00s Unsat: 0.00s)\n",
      "CPU Time     : 0.000s\n"
     ]
    }
   ],
   "source": [
    "%%clingo 0\n",
    "track(0,0,2,0).\n",
    "    % expected results - track(0,0,2,0).\n",
    "    % path( (0,-1) (0, 0) (0, 1) )\n",
    "    % path( (0,-1) (0, 0) (-1,0) )\n",
    "    % path( (0, 1) (0, 0) (0,-1) )\n",
    "    % path( (-1,0) (0, 0) (0,-1) )\n",
    "    \n",
    "path(X0,Y0, X,Y, -1*X0,-1*Y0) :- track(X,Y,2,D), X0 = X+(|D-1|-1), Y0 = -1*(Y+(|D-2|-1)).\n",
    "path(X0,Y0, X,Y,    Y0,-1*X0) :- track(X,Y,2,D), X0 = X+(|D-1|-1), Y0 = -1*(Y+(|D-2|-1)).\n",
    "path(X0,Y0, X1,Y1, X2,Y2) :- path(X2,Y2, X1,Y1, X0,Y0).\n",
    "    \n",
    "#show path/6."
   ]
  },
  {
   "cell_type": "code",
   "execution_count": null,
   "id": "d7bf677d",
   "metadata": {},
   "outputs": [],
   "source": []
  }
 ],
 "metadata": {
  "kernelspec": {
   "display_name": "Python 3 (ipykernel)",
   "language": "python",
   "name": "python3"
  },
  "language_info": {
   "codemirror_mode": {
    "name": "ipython",
    "version": 3
   },
   "file_extension": ".py",
   "mimetype": "text/x-python",
   "name": "python",
   "nbconvert_exporter": "python",
   "pygments_lexer": "ipython3",
   "version": "3.9.12"
  }
 },
 "nbformat": 4,
 "nbformat_minor": 5
}
