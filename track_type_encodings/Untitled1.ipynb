{
 "cells": [
  {
   "cell_type": "code",
   "execution_count": 12,
   "id": "61385b55",
   "metadata": {},
   "outputs": [
    {
     "name": "stdout",
     "output_type": "stream",
     "text": [
      "clingo version 5.6.2\n",
      "Reading from track_type_02.lp\n"
     ]
    },
    {
     "name": "stderr",
     "output_type": "stream",
     "text": [
      "track_type_02.lp:22:1-77: error: unsafe variables in:\n",
      "  track(X,Y,2,D):-[#inc_base];path(#Arith0,#Arith1,X,Y,#Arith2,#Arith0);#Arith0=(|(D+-1)|-1);#Arith1=(-1*(|(D+-2)|+1));#Arith2=(|(D+-2)|+1).\n",
      "track_type_02.lp:22:14-15: note: 'D' is unsafe\n",
      "\n",
      "track_type_02.lp:23:1-82: error: unsafe variables in:\n",
      "  track(X,Y,2,D):-[#inc_base];path(#Arith0,#Arith1,X,Y,#Arith2,#Arith3);#Arith0=(|(D+-1)|-1);#Arith1=(-1*(|(D+-2)|+1));#Arith2=(|(D+-2)|+1);#Arith3=((|(D+-1)|-1)*-1).\n",
      "track_type_02.lp:23:14-15: note: 'D' is unsafe\n",
      "\n",
      "*** ERROR: (clingo): grounding stopped because of errors\n"
     ]
    },
    {
     "name": "stdout",
     "output_type": "stream",
     "text": [
      "UNKNOWN\n",
      "\n",
      "Models       : 0+\n",
      "Calls        : 1\n",
      "Time         : 0.049s (Solving: 0.00s 1st Model: 0.00s Unsat: 0.00s)\n",
      "CPU Time     : 0.001s\n"
     ]
    }
   ],
   "source": [
    "%%clingo track_type_02.lp\n",
    "a."
   ]
  }
 ],
 "metadata": {
  "kernelspec": {
   "display_name": "Python 3 (ipykernel)",
   "language": "python",
   "name": "python3"
  },
  "language_info": {
   "codemirror_mode": {
    "name": "ipython",
    "version": 3
   },
   "file_extension": ".py",
   "mimetype": "text/x-python",
   "name": "python",
   "nbconvert_exporter": "python",
   "pygments_lexer": "ipython3",
   "version": "3.9.12"
  }
 },
 "nbformat": 4,
 "nbformat_minor": 5
}
