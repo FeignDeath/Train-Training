{
 "cells": [
  {
   "cell_type": "markdown",
   "id": "24ee8938",
   "metadata": {},
   "source": []
  },
  {
   "cell_type": "markdown",
   "id": "a509233d",
   "metadata": {},
   "source": [
    "## Import Flatland"
   ]
  },
  {
   "cell_type": "code",
   "execution_count": 1,
   "id": "7fcc8bbd",
   "metadata": {},
   "outputs": [
    {
     "data": {
      "text/plain": [
       "'3.0.15'"
      ]
     },
     "execution_count": 1,
     "metadata": {},
     "output_type": "execute_result"
    }
   ],
   "source": [
    "import flatland\n",
    "flatland.__version__"
   ]
  },
  {
   "cell_type": "code",
   "execution_count": 2,
   "id": "1c203bdf",
   "metadata": {},
   "outputs": [],
   "source": [
    "import numpy as np\n",
    "import PIL\n",
    "import time\n",
    "from io import BytesIO\n",
    "from enum import IntEnum\n",
    "from typing import List, NamedTuple, Optional, Dict, Tuple\n",
    "# matplotlib.pyplot as plt\n",
    "from matplotlib import pyplot as plt\n",
    "from matplotlib.animation import FuncAnimation\n",
    "from typing import NamedTuple, Tuple, List\n",
    "\n",
    "import networkx as nx\n",
    "from IPython.display import HTML, display, clear_output\n",
    "import ipywidgets as ipw\n",
    "from ipycanvas import canvas\n",
    "\n",
    "\n",
    "from flatland.core.grid.rail_env_grid import RailEnvTransitions\n",
    "from flatland.core.transition_map import GridTransitionMap\n",
    "\n",
    "from flatland.envs.observations import GlobalObsForRailEnv, TreeObsForRailEnv\n",
    "from flatland.envs.rail_env import RailEnv, RailEnvActions\n",
    "from flatland.envs.agent_utils import Agent, EnvAgent\n",
    "from flatland.envs.step_utils.state_machine import TrainStateMachine\n",
    "from flatland.envs.step_utils.states import TrainState\n",
    "from flatland.envs.step_utils.transition_utils import check_action_on_agent\n",
    "from flatland.envs.rail_generators import rail_from_grid_transition_map\n",
    "from flatland.envs.rail_generators import rail_from_manual_specifications_generator\n",
    "\n",
    "from flatland.utils.simple_rail import make_simple_rail, make_simple_rail2, make_simple_rail_with_alternatives, make_oval_rail # careful, this is not a rail environment, just a grid transition map...\n",
    "#from flatland.utils.env_edit_utils import makeEnv # broken, does not work in flatland V3...\n",
    "from flatland.utils.rendertools import RenderTool, AgentRenderVariant\n",
    "from flatland.core.env_observation_builder import DummyObservationBuilder\n",
    "from flatland.envs.line_generators import sparse_line_generator"
   ]
  },
  {
   "cell_type": "markdown",
   "id": "f8bb8531",
   "metadata": {},
   "source": [
    "## Render functions"
   ]
  },
  {
   "cell_type": "code",
   "execution_count": null,
   "id": "dfe0b41a",
   "metadata": {},
   "outputs": [],
   "source": [
    "def create_rendering_area():\n",
    "    rendering_area = ipw.Image()\n",
    "    display(rendering_area)\n",
    "    return rendering_area\n",
    "\n",
    "def render_env_old(flatland_renderer, rendering_area:ipw.Image):\n",
    "    flatland_renderer.render_env(show=False, show_observations=False)\n",
    "    image = flatland_renderer.get_image()\n",
    "    pil_image = PIL.Image.fromarray(image)\n",
    "    if rendering_area is None:\n",
    "        clear_output(wait=False)\n",
    "        display(pil_image)\n",
    "        return\n",
    "    \n",
    "        # convert numpy to PIL to png-format bytes\n",
    "        with BytesIO() as fOut:\n",
    "            pil_image.save(fOut, format=\"png\")\n",
    "            byPng = fOut.getvalue()\n",
    "            \n",
    "    # set the png bytes as the image value;\n",
    "    # this updates the image in the browser.\n",
    "    rendering_area.value = byPng\n",
    "    time.sleep(1.0) # standard: 1.0 Reason seems to be: otherwise, the animation in colab gets \"jumpy\".\n",
    "    # reason for \"jumpyness\": maybe rendering is faster than computation...\n",
    "\n"
   ]
  }
 ],
 "metadata": {
  "kernelspec": {
   "display_name": "Python 3",
   "language": "python",
   "name": "python3"
  },
  "language_info": {
   "codemirror_mode": {
    "name": "ipython",
    "version": 3
   },
   "file_extension": ".py",
   "mimetype": "text/x-python",
   "name": "python",
   "nbconvert_exporter": "python",
   "pygments_lexer": "ipython3",
   "version": "3.8.8"
  }
 },
 "nbformat": 4,
 "nbformat_minor": 5
}
