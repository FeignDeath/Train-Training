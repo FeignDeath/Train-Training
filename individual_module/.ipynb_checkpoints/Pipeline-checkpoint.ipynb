{
 "cells": [
  {
   "cell_type": "markdown",
   "id": "24ee8938",
   "metadata": {},
   "source": []
  },
  {
   "cell_type": "markdown",
   "id": "a509233d",
   "metadata": {},
   "source": [
    "## Import Flatland"
   ]
  },
  {
   "cell_type": "code",
   "execution_count": 3,
   "id": "7fcc8bbd",
   "metadata": {},
   "outputs": [
    {
     "data": {
      "text/plain": [
       "'3.0.15'"
      ]
     },
     "execution_count": 3,
     "metadata": {},
     "output_type": "execute_result"
    }
   ],
   "source": [
    "import flatland\n",
    "flatland.__version__"
   ]
  },
  {
   "cell_type": "code",
   "execution_count": 4,
   "id": "1c203bdf",
   "metadata": {},
   "outputs": [],
   "source": [
    "import numpy as np\n",
    "import PIL\n",
    "import time\n",
    "from io import BytesIO\n",
    "from enum import IntEnum\n",
    "from typing import List, NamedTuple, Optional, Dict, Tuple\n",
    "# matplotlib.pyplot as plt\n",
    "from matplotlib import pyplot as plt\n",
    "from matplotlib.animation import FuncAnimation\n",
    "from typing import NamedTuple, Tuple, List\n",
    "\n",
    "import networkx as nx\n",
    "from IPython.display import HTML, display, clear_output\n",
    "import ipywidgets as ipw\n",
    "from ipycanvas import canvas\n",
    "\n",
    "\n",
    "from flatland.core.grid.rail_env_grid import RailEnvTransitions\n",
    "from flatland.core.transition_map import GridTransitionMap\n",
    "\n",
    "from flatland.envs.observations import GlobalObsForRailEnv, TreeObsForRailEnv\n",
    "from flatland.envs.rail_env import RailEnv, RailEnvActions\n",
    "from flatland.envs.agent_utils import Agent, EnvAgent\n",
    "from flatland.envs.step_utils.state_machine import TrainStateMachine\n",
    "from flatland.envs.step_utils.states import TrainState\n",
    "from flatland.envs.step_utils.transition_utils import check_action_on_agent\n",
    "from flatland.envs.rail_generators import rail_from_grid_transition_map\n",
    "from flatland.envs.rail_generators import rail_from_manual_specifications_generator\n",
    "\n",
    "from flatland.utils.simple_rail import make_simple_rail, make_simple_rail2, make_simple_rail_with_alternatives, make_oval_rail # careful, this is not a rail environment, just a grid transition map...\n",
    "#from flatland.utils.env_edit_utils import makeEnv # broken, does not work in flatland V3...\n",
    "from flatland.utils.rendertools import RenderTool, AgentRenderVariant\n",
    "from flatland.core.env_observation_builder import DummyObservationBuilder\n",
    "from flatland.envs.line_generators import sparse_line_generator"
   ]
  },
  {
   "cell_type": "markdown",
   "id": "f8bb8531",
   "metadata": {},
   "source": [
    "## Create simple environment"
   ]
  },
  {
   "cell_type": "code",
   "execution_count": 7,
   "id": "dfe0b41a",
   "metadata": {},
   "outputs": [],
   "source": [
    "def make_straight_rail(length:int=5) -> Tuple[GridTransitionMap, np.array]:\n",
    "    \"\"\"\n",
    "    input: length. Length of straight rail line (=width of environment)\n",
    "    rail looks roughly like this: (with dead ends on both sides)\n",
    "    _ _ _ _ _ _ _ _ _ _\n",
    "\n",
    "    \"\"\"\n",
    "\n",
    "    transitions = RailEnvTransitions()\n",
    "    cells = transitions.transition_list\n",
    "\n",
    "    empty = cells[0]\n",
    "    dead_end_from_south = cells[7]\n",
    "    vertical_straight = cells[1]\n",
    "    horizontal_straight = transitions.rotate_transition(vertical_straight, 90)\n",
    "    dead_end_from_east = transitions.rotate_transition(dead_end_from_south, 270)\n",
    "    dead_end_from_west = transitions.rotate_transition(dead_end_from_south, 90)\n",
    "\n",
    "    rail_map = np.array(\n",
    "        [[empty] * length]+\n",
    "        [[dead_end_from_east] + [horizontal_straight] * (length-2)  + [dead_end_from_west]]+\n",
    "        [[empty] * length], dtype=np.uint16)\n",
    "\n",
    "    rail = GridTransitionMap(width=rail_map.shape[1],\n",
    "                             height=rail_map.shape[0], transitions=transitions)\n",
    "    rail.grid = rail_map\n",
    "    city_positions = [(1,0), (1, 4)]\n",
    "    train_stations = [\n",
    "                      [( (0, 0), 1 ) ],\n",
    "                      [( (1, length-1), 3 ) ],\n",
    "                     ]\n",
    "\n",
    "    city_orientations = [1, 3] # 0: north, 1:east, 2:south, 3:west\n",
    "    agents_hints = {'city_positions': city_positions,\n",
    "                    'train_stations': train_stations,\n",
    "                    'city_orientations': city_orientations\n",
    "                   }\n",
    "    optionals = {'agents_hints': agents_hints}\n",
    "    return rail, rail_map, optionals\n",
    "\n",
    "\n",
    "def create_straight_rail_env(length:int=5) -> RailEnv:\n",
    "    rail_straight, rail_map_straight, optionals_straight = make_straight_rail(length)\n",
    "    rail_gen_straight = rail_from_grid_transition_map(rail_map=rail_straight, optionals=optionals_straight)\n",
    "\n",
    "    straight_env = RailEnv(width=rail_straight.width, height=rail_straight.height, rail_generator=rail_gen_straight, number_of_agents=1, obs_builder_object=TreeObsForRailEnv(max_depth=0))\n",
    "    straight_env.reset(regenerate_rail=False, regenerate_schedule=False, random_seed=42) # careful, some random seeds may create invalid env! (e.g. 0)\n",
    "    #deactivate_windows(straight_env)\n",
    "    straight_env.agents[0].initial_direction = 1\n",
    "    straight_env.agents[0].initial_position = (1, 1)\n",
    "    #straight_env._max_episode_steps = 10 # this was lacking\n",
    "    straight_env._max_episode_steps = length * 2 # TODO...\n",
    "    return straight_env"
   ]
  },
  {
   "cell_type": "code",
   "execution_count": 9,
   "id": "4fe4dea2",
   "metadata": {},
   "outputs": [
    {
     "name": "stdout",
     "output_type": "stream",
     "text": [
      "?????\n",
      "0 0\n",
      "?????\n",
      "0 0\n"
     ]
    }
   ],
   "source": [
    "straight_env = create_straight_rail_env(length=5)\n",
    "obs, info = straight_env.reset(regenerate_rail=False, regenerate_schedule=False, random_seed=0)"
   ]
  },
  {
   "cell_type": "markdown",
   "id": "dda370ac",
   "metadata": {},
   "source": [
    "## Specific elements\n",
    "What pieces of information can we actually obtain?"
   ]
  },
  {
   "cell_type": "markdown",
   "id": "a70c8526",
   "metadata": {},
   "source": [
    "### What the envrionment looks like"
   ]
  },
  {
   "cell_type": "code",
   "execution_count": 10,
   "id": "b94f663d",
   "metadata": {},
   "outputs": [
    {
     "data": {
      "text/plain": [
       "array([[   0,    0,    0,    0,    0],\n",
       "       [   4, 1025, 1025, 1025,  256],\n",
       "       [   0,    0,    0,    0,    0]], dtype=uint16)"
      ]
     },
     "execution_count": 10,
     "metadata": {},
     "output_type": "execute_result"
    }
   ],
   "source": [
    "straight_env.rail.grid"
   ]
  },
  {
   "cell_type": "code",
   "execution_count": 12,
   "id": "355f62a9",
   "metadata": {},
   "outputs": [],
   "source": [
    "track_env = straight_env.rail.grid"
   ]
  },
  {
   "cell_type": "code",
   "execution_count": 22,
   "id": "b5bb8b1c",
   "metadata": {},
   "outputs": [
    {
     "name": "stdout",
     "output_type": "stream",
     "text": [
      "This environment has 3 rows, 5 columns, and 5 cells with track.\n"
     ]
    }
   ],
   "source": [
    "num_rows = len(track_env)\n",
    "num_cols = len(track_env[0])\n",
    "num_track = np.sum(straight_env.rail.grid != 0)\n",
    "\n",
    "print(\"This environment has {} rows, {} columns, and {} cells with track.\".format(num_rows, num_cols, num_track))"
   ]
  },
  {
   "cell_type": "markdown",
   "id": "86155f73",
   "metadata": {},
   "source": [
    "### Where the agents are"
   ]
  },
  {
   "cell_type": "code",
   "execution_count": 28,
   "id": "f5492734",
   "metadata": {},
   "outputs": [],
   "source": [
    "#direction codes\n",
    "dirs = {0:'north', 1:'east', 2:'south', 3:'west'}"
   ]
  },
  {
   "cell_type": "code",
   "execution_count": 29,
   "id": "14a9a502",
   "metadata": {},
   "outputs": [
    {
     "name": "stdout",
     "output_type": "stream",
     "text": [
      "The agent is starting at (1, 1) and is facing east.\n"
     ]
    }
   ],
   "source": [
    "agent_location = straight_env.agents[0].initial_position\n",
    "agent_direction = straight_env.agents[0].initial_direction\n",
    "\n",
    "print(\"The agent is starting at {} and is facing {}.\".format(agent_location, dirs[agent_direction]))"
   ]
  },
  {
   "cell_type": "code",
   "execution_count": null,
   "id": "42ec817c",
   "metadata": {},
   "outputs": [],
   "source": []
  }
 ],
 "metadata": {
  "kernelspec": {
   "display_name": "Python 3",
   "language": "python",
   "name": "python3"
  },
  "language_info": {
   "codemirror_mode": {
    "name": "ipython",
    "version": 3
   },
   "file_extension": ".py",
   "mimetype": "text/x-python",
   "name": "python",
   "nbconvert_exporter": "python",
   "pygments_lexer": "ipython3",
   "version": "3.8.8"
  }
 },
 "nbformat": 4,
 "nbformat_minor": 5
}
